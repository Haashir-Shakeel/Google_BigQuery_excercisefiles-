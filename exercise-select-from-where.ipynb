{
 "cells": [
  {
   "cell_type": "markdown",
   "id": "dd69ac7d",
   "metadata": {
    "papermill": {
     "duration": 0.010854,
     "end_time": "2022-03-15T13:26:55.830095",
     "exception": false,
     "start_time": "2022-03-15T13:26:55.819241",
     "status": "completed"
    },
    "tags": []
   },
   "source": [
    "**This notebook is an exercise in the [SQL](https://www.kaggle.com/learn/intro-to-sql) course.  You can reference the tutorial at [this link](https://www.kaggle.com/dansbecker/select-from-where).**\n",
    "\n",
    "---\n"
   ]
  },
  {
   "cell_type": "markdown",
   "id": "3ac59695",
   "metadata": {
    "papermill": {
     "duration": 0.009975,
     "end_time": "2022-03-15T13:26:55.850786",
     "exception": false,
     "start_time": "2022-03-15T13:26:55.840811",
     "status": "completed"
    },
    "tags": []
   },
   "source": [
    "# Introduction\n",
    "\n",
    "Try writing some **SELECT** statements of your own to explore a large dataset of air pollution measurements.\n",
    "\n",
    "Run the cell below to set up the feedback system."
   ]
  },
  {
   "cell_type": "code",
   "execution_count": 1,
   "id": "4b98d25b",
   "metadata": {
    "execution": {
     "iopub.execute_input": "2022-03-15T13:26:55.878649Z",
     "iopub.status.busy": "2022-03-15T13:26:55.878038Z",
     "iopub.status.idle": "2022-03-15T13:26:58.445870Z",
     "shell.execute_reply": "2022-03-15T13:26:58.444606Z",
     "shell.execute_reply.started": "2022-03-15T13:08:01.778236Z"
    },
    "papermill": {
     "duration": 2.585445,
     "end_time": "2022-03-15T13:26:58.446107",
     "exception": false,
     "start_time": "2022-03-15T13:26:55.860662",
     "status": "completed"
    },
    "tags": []
   },
   "outputs": [
    {
     "name": "stdout",
     "output_type": "stream",
     "text": [
      "Using Kaggle's public dataset BigQuery integration.\n"
     ]
    },
    {
     "name": "stderr",
     "output_type": "stream",
     "text": [
      "/opt/conda/lib/python3.7/site-packages/google/cloud/bigquery/client.py:440: UserWarning: Cannot create BigQuery Storage client, the dependency google-cloud-bigquery-storage is not installed.\n",
      "  \"Cannot create BigQuery Storage client, the dependency \"\n"
     ]
    },
    {
     "name": "stdout",
     "output_type": "stream",
     "text": [
      "Setup Complete\n"
     ]
    }
   ],
   "source": [
    "# Set up feedback system\n",
    "from learntools.core import binder\n",
    "binder.bind(globals())\n",
    "from learntools.sql.ex2 import *\n",
    "print(\"Setup Complete\")"
   ]
  },
  {
   "cell_type": "markdown",
   "id": "ada05eb6",
   "metadata": {
    "papermill": {
     "duration": 0.011684,
     "end_time": "2022-03-15T13:26:58.471869",
     "exception": false,
     "start_time": "2022-03-15T13:26:58.460185",
     "status": "completed"
    },
    "tags": []
   },
   "source": [
    "The code cell below fetches the `global_air_quality` table from the `openaq` dataset.  We also preview the first five rows of the table."
   ]
  },
  {
   "cell_type": "code",
   "execution_count": 2,
   "id": "7675fc23",
   "metadata": {
    "execution": {
     "iopub.execute_input": "2022-03-15T13:26:58.502783Z",
     "iopub.status.busy": "2022-03-15T13:26:58.501617Z",
     "iopub.status.idle": "2022-03-15T13:26:59.738435Z",
     "shell.execute_reply": "2022-03-15T13:26:59.738986Z",
     "shell.execute_reply.started": "2022-03-15T13:08:13.202571Z"
    },
    "papermill": {
     "duration": 1.255715,
     "end_time": "2022-03-15T13:26:59.739210",
     "exception": false,
     "start_time": "2022-03-15T13:26:58.483495",
     "status": "completed"
    },
    "tags": []
   },
   "outputs": [
    {
     "name": "stdout",
     "output_type": "stream",
     "text": [
      "Using Kaggle's public dataset BigQuery integration.\n"
     ]
    },
    {
     "name": "stderr",
     "output_type": "stream",
     "text": [
      "/opt/conda/lib/python3.7/site-packages/ipykernel_launcher.py:19: UserWarning: Cannot use bqstorage_client if max_results is set, reverting to fetching data with the tabledata.list endpoint.\n"
     ]
    },
    {
     "data": {
      "text/html": [
       "<div>\n",
       "<style scoped>\n",
       "    .dataframe tbody tr th:only-of-type {\n",
       "        vertical-align: middle;\n",
       "    }\n",
       "\n",
       "    .dataframe tbody tr th {\n",
       "        vertical-align: top;\n",
       "    }\n",
       "\n",
       "    .dataframe thead th {\n",
       "        text-align: right;\n",
       "    }\n",
       "</style>\n",
       "<table border=\"1\" class=\"dataframe\">\n",
       "  <thead>\n",
       "    <tr style=\"text-align: right;\">\n",
       "      <th></th>\n",
       "      <th>location</th>\n",
       "      <th>city</th>\n",
       "      <th>country</th>\n",
       "      <th>pollutant</th>\n",
       "      <th>value</th>\n",
       "      <th>timestamp</th>\n",
       "      <th>unit</th>\n",
       "      <th>source_name</th>\n",
       "      <th>latitude</th>\n",
       "      <th>longitude</th>\n",
       "      <th>averaged_over_in_hours</th>\n",
       "    </tr>\n",
       "  </thead>\n",
       "  <tbody>\n",
       "    <tr>\n",
       "      <th>0</th>\n",
       "      <td>BTM Layout, Bengaluru - KSPCB</td>\n",
       "      <td>Bengaluru</td>\n",
       "      <td>IN</td>\n",
       "      <td>co</td>\n",
       "      <td>910.00</td>\n",
       "      <td>2018-02-22 03:00:00+00:00</td>\n",
       "      <td>µg/m³</td>\n",
       "      <td>CPCB</td>\n",
       "      <td>12.912811</td>\n",
       "      <td>77.60922</td>\n",
       "      <td>0.25</td>\n",
       "    </tr>\n",
       "    <tr>\n",
       "      <th>1</th>\n",
       "      <td>BTM Layout, Bengaluru - KSPCB</td>\n",
       "      <td>Bengaluru</td>\n",
       "      <td>IN</td>\n",
       "      <td>no2</td>\n",
       "      <td>131.87</td>\n",
       "      <td>2018-02-22 03:00:00+00:00</td>\n",
       "      <td>µg/m³</td>\n",
       "      <td>CPCB</td>\n",
       "      <td>12.912811</td>\n",
       "      <td>77.60922</td>\n",
       "      <td>0.25</td>\n",
       "    </tr>\n",
       "    <tr>\n",
       "      <th>2</th>\n",
       "      <td>BTM Layout, Bengaluru - KSPCB</td>\n",
       "      <td>Bengaluru</td>\n",
       "      <td>IN</td>\n",
       "      <td>o3</td>\n",
       "      <td>15.57</td>\n",
       "      <td>2018-02-22 03:00:00+00:00</td>\n",
       "      <td>µg/m³</td>\n",
       "      <td>CPCB</td>\n",
       "      <td>12.912811</td>\n",
       "      <td>77.60922</td>\n",
       "      <td>0.25</td>\n",
       "    </tr>\n",
       "    <tr>\n",
       "      <th>3</th>\n",
       "      <td>BTM Layout, Bengaluru - KSPCB</td>\n",
       "      <td>Bengaluru</td>\n",
       "      <td>IN</td>\n",
       "      <td>pm25</td>\n",
       "      <td>45.62</td>\n",
       "      <td>2018-02-22 03:00:00+00:00</td>\n",
       "      <td>µg/m³</td>\n",
       "      <td>CPCB</td>\n",
       "      <td>12.912811</td>\n",
       "      <td>77.60922</td>\n",
       "      <td>0.25</td>\n",
       "    </tr>\n",
       "    <tr>\n",
       "      <th>4</th>\n",
       "      <td>BTM Layout, Bengaluru - KSPCB</td>\n",
       "      <td>Bengaluru</td>\n",
       "      <td>IN</td>\n",
       "      <td>so2</td>\n",
       "      <td>4.49</td>\n",
       "      <td>2018-02-22 03:00:00+00:00</td>\n",
       "      <td>µg/m³</td>\n",
       "      <td>CPCB</td>\n",
       "      <td>12.912811</td>\n",
       "      <td>77.60922</td>\n",
       "      <td>0.25</td>\n",
       "    </tr>\n",
       "  </tbody>\n",
       "</table>\n",
       "</div>"
      ],
      "text/plain": [
       "                        location       city country pollutant   value  \\\n",
       "0  BTM Layout, Bengaluru - KSPCB  Bengaluru      IN        co  910.00   \n",
       "1  BTM Layout, Bengaluru - KSPCB  Bengaluru      IN       no2  131.87   \n",
       "2  BTM Layout, Bengaluru - KSPCB  Bengaluru      IN        o3   15.57   \n",
       "3  BTM Layout, Bengaluru - KSPCB  Bengaluru      IN      pm25   45.62   \n",
       "4  BTM Layout, Bengaluru - KSPCB  Bengaluru      IN       so2    4.49   \n",
       "\n",
       "                  timestamp   unit source_name   latitude  longitude  \\\n",
       "0 2018-02-22 03:00:00+00:00  µg/m³        CPCB  12.912811   77.60922   \n",
       "1 2018-02-22 03:00:00+00:00  µg/m³        CPCB  12.912811   77.60922   \n",
       "2 2018-02-22 03:00:00+00:00  µg/m³        CPCB  12.912811   77.60922   \n",
       "3 2018-02-22 03:00:00+00:00  µg/m³        CPCB  12.912811   77.60922   \n",
       "4 2018-02-22 03:00:00+00:00  µg/m³        CPCB  12.912811   77.60922   \n",
       "\n",
       "   averaged_over_in_hours  \n",
       "0                    0.25  \n",
       "1                    0.25  \n",
       "2                    0.25  \n",
       "3                    0.25  \n",
       "4                    0.25  "
      ]
     },
     "execution_count": 2,
     "metadata": {},
     "output_type": "execute_result"
    }
   ],
   "source": [
    "from google.cloud import bigquery\n",
    "\n",
    "# Create a \"Client\" object\n",
    "client = bigquery.Client()\n",
    "\n",
    "# Construct a reference to the \"openaq\" dataset\n",
    "dataset_ref = client.dataset(\"openaq\", project=\"bigquery-public-data\")\n",
    "\n",
    "# API request - fetch the dataset\n",
    "dataset = client.get_dataset(dataset_ref)\n",
    "\n",
    "# Construct a reference to the \"global_air_quality\" table\n",
    "table_ref = dataset_ref.table(\"global_air_quality\")\n",
    "\n",
    "# API request - fetch the table\n",
    "table = client.get_table(table_ref)\n",
    "\n",
    "# Preview the first five lines of the \"global_air_quality\" table\n",
    "client.list_rows(table, max_results=5).to_dataframe()"
   ]
  },
  {
   "cell_type": "markdown",
   "id": "653bb614",
   "metadata": {
    "papermill": {
     "duration": 0.012762,
     "end_time": "2022-03-15T13:26:59.764923",
     "exception": false,
     "start_time": "2022-03-15T13:26:59.752161",
     "status": "completed"
    },
    "tags": []
   },
   "source": [
    "# Exercises\n",
    "\n",
    "### 1) Units of measurement\n",
    "\n",
    "Which countries have reported pollution levels in units of \"ppm\"?  In the code cell below, set `first_query` to an SQL query that pulls the appropriate entries from the `country` column.\n",
    "\n",
    "In case it's useful to see an example query, here's some code from the tutorial:\n",
    "\n",
    "```\n",
    "query = \"\"\"\n",
    "        SELECT city\n",
    "        FROM `bigquery-public-data.openaq.global_air_quality`\n",
    "        WHERE country = 'US'\n",
    "        \"\"\"\n",
    "```"
   ]
  },
  {
   "cell_type": "code",
   "execution_count": 3,
   "id": "3b08a0a1",
   "metadata": {
    "execution": {
     "iopub.execute_input": "2022-03-15T13:26:59.800130Z",
     "iopub.status.busy": "2022-03-15T13:26:59.793535Z",
     "iopub.status.idle": "2022-03-15T13:27:01.069924Z",
     "shell.execute_reply": "2022-03-15T13:27:01.070586Z",
     "shell.execute_reply.started": "2022-03-15T13:15:48.963877Z"
    },
    "papermill": {
     "duration": 1.293214,
     "end_time": "2022-03-15T13:27:01.070788",
     "exception": false,
     "start_time": "2022-03-15T13:26:59.777574",
     "status": "completed"
    },
    "tags": []
   },
   "outputs": [
    {
     "name": "stderr",
     "output_type": "stream",
     "text": [
      "/opt/conda/lib/python3.7/site-packages/google/cloud/bigquery/client.py:440: UserWarning: Cannot create BigQuery Storage client, the dependency google-cloud-bigquery-storage is not installed.\n",
      "  \"Cannot create BigQuery Storage client, the dependency \"\n"
     ]
    },
    {
     "name": "stdout",
     "output_type": "stream",
     "text": [
      "  country\n",
      "0      US\n",
      "1      CL\n",
      "2      AU\n",
      "3      BM\n",
      "4      MX\n"
     ]
    },
    {
     "data": {
      "application/javascript": [
       "parent.postMessage({\"jupyterEvent\": \"custom.exercise_interaction\", \"data\": {\"outcomeType\": 1, \"valueTowardsCompletion\": 0.5, \"interactionType\": 1, \"questionType\": 2, \"questionId\": \"1_WhichCountries\", \"learnToolsVersion\": \"0.3.4\", \"failureMessage\": \"\", \"exceptionClass\": \"\", \"trace\": \"\"}}, \"*\")"
      ],
      "text/plain": [
       "<IPython.core.display.Javascript object>"
      ]
     },
     "metadata": {},
     "output_type": "display_data"
    },
    {
     "data": {
      "text/markdown": [
       "<span style=\"color:#33cc33\">Correct</span>"
      ],
      "text/plain": [
       "Correct"
      ]
     },
     "metadata": {},
     "output_type": "display_data"
    }
   ],
   "source": [
    "# Query to select countries with units of \"ppm\"\n",
    "first_query = \"\"\"\n",
    "            SELECT DISTINCT country \n",
    "            FROM `bigquery-public-data.openaq.global_air_quality`\n",
    "            WHERE unit = 'ppm'\n",
    "            \"\"\"\n",
    "TEN_GB=10*1000*1000*1000\n",
    "\n",
    "# Set up the query (cancel the query if it would use too much of \n",
    "# your quota, with the limit set to 10 GB)\n",
    "safe_config = bigquery.QueryJobConfig(maximum_bytes_billed=TEN_GB)\n",
    "first_query_job = client.query(first_query, job_config=safe_config)\n",
    "\n",
    "# API request - run the query, and return a pandas DataFrame\n",
    "first_results = first_query_job.to_dataframe()\n",
    "\n",
    "# View top few rows of results\n",
    "print(first_results.head())\n",
    "\n",
    "# Check your answer\n",
    "q_1.check()"
   ]
  },
  {
   "cell_type": "markdown",
   "id": "1af0af2f",
   "metadata": {
    "papermill": {
     "duration": 0.015488,
     "end_time": "2022-03-15T13:27:01.101096",
     "exception": false,
     "start_time": "2022-03-15T13:27:01.085608",
     "status": "completed"
    },
    "tags": []
   },
   "source": [
    "For the solution, uncomment the line below."
   ]
  },
  {
   "cell_type": "code",
   "execution_count": 4,
   "id": "41f44c0b",
   "metadata": {
    "execution": {
     "iopub.execute_input": "2022-03-15T13:27:01.132583Z",
     "iopub.status.busy": "2022-03-15T13:27:01.131874Z",
     "iopub.status.idle": "2022-03-15T13:27:01.135831Z",
     "shell.execute_reply": "2022-03-15T13:27:01.135107Z"
    },
    "papermill": {
     "duration": 0.020767,
     "end_time": "2022-03-15T13:27:01.135990",
     "exception": false,
     "start_time": "2022-03-15T13:27:01.115223",
     "status": "completed"
    },
    "tags": []
   },
   "outputs": [],
   "source": [
    "#q_1.solution()"
   ]
  },
  {
   "cell_type": "markdown",
   "id": "aced00ca",
   "metadata": {
    "papermill": {
     "duration": 0.013444,
     "end_time": "2022-03-15T13:27:01.163560",
     "exception": false,
     "start_time": "2022-03-15T13:27:01.150116",
     "status": "completed"
    },
    "tags": []
   },
   "source": [
    "### 2) High air quality\n",
    "\n",
    "Which pollution levels were reported to be exactly 0?  \n",
    "- Set `zero_pollution_query` to select **all columns** of the rows where the `value` column is 0.\n",
    "- Set `zero_pollution_results` to a pandas DataFrame containing the query results."
   ]
  },
  {
   "cell_type": "code",
   "execution_count": 5,
   "id": "147cdd8e",
   "metadata": {
    "execution": {
     "iopub.execute_input": "2022-03-15T13:27:01.201990Z",
     "iopub.status.busy": "2022-03-15T13:27:01.201262Z",
     "iopub.status.idle": "2022-03-15T13:27:02.380739Z",
     "shell.execute_reply": "2022-03-15T13:27:02.381459Z",
     "shell.execute_reply.started": "2022-03-15T13:22:45.252063Z"
    },
    "papermill": {
     "duration": 1.203113,
     "end_time": "2022-03-15T13:27:02.381661",
     "exception": false,
     "start_time": "2022-03-15T13:27:01.178548",
     "status": "completed"
    },
    "tags": []
   },
   "outputs": [
    {
     "name": "stderr",
     "output_type": "stream",
     "text": [
      "/opt/conda/lib/python3.7/site-packages/google/cloud/bigquery/client.py:440: UserWarning: Cannot create BigQuery Storage client, the dependency google-cloud-bigquery-storage is not installed.\n",
      "  \"Cannot create BigQuery Storage client, the dependency \"\n"
     ]
    },
    {
     "name": "stdout",
     "output_type": "stream",
     "text": [
      "                                        location     city country pollutant  \\\n",
      "0                     Victoria Memorial - WBSPCB  Kolkata      IN      pm25   \n",
      "1  Rabindra Bharati University, Kolkata - WBSPCB  Kolkata      IN       so2   \n",
      "2                   Zamość ul. Hrubieszowska 69A   Zamość      PL       no2   \n",
      "3                               Końskie, MOBILNA  Końskie      PL      pm10   \n",
      "4                               Końskie, MOBILNA  Końskie      PL      pm25   \n",
      "\n",
      "   value                 timestamp   unit source_name   latitude  longitude  \\\n",
      "0    0.0 2017-10-16 20:45:00+00:00  µg/m³        CPCB  22.572645  88.363890   \n",
      "1    0.0 2017-10-28 14:30:00+00:00  µg/m³        CPCB  22.627874  88.380400   \n",
      "2    0.0 2020-05-19 05:00:00+00:00  µg/m³        GIOS  50.716630  23.290247   \n",
      "3    0.0 2018-12-21 13:00:00+00:00  µg/m³        GIOS  51.189526  20.408892   \n",
      "4    0.0 2018-12-21 13:00:00+00:00  µg/m³        GIOS  51.189526  20.408892   \n",
      "\n",
      "   averaged_over_in_hours  \n",
      "0                    0.25  \n",
      "1                    0.25  \n",
      "2                     NaN  \n",
      "3                     NaN  \n",
      "4                     NaN  \n"
     ]
    },
    {
     "data": {
      "application/javascript": [
       "parent.postMessage({\"jupyterEvent\": \"custom.exercise_interaction\", \"data\": {\"outcomeType\": 1, \"valueTowardsCompletion\": 0.5, \"interactionType\": 1, \"questionType\": 2, \"questionId\": \"2_ZeroPollution\", \"learnToolsVersion\": \"0.3.4\", \"failureMessage\": \"\", \"exceptionClass\": \"\", \"trace\": \"\"}}, \"*\")"
      ],
      "text/plain": [
       "<IPython.core.display.Javascript object>"
      ]
     },
     "metadata": {},
     "output_type": "display_data"
    },
    {
     "data": {
      "text/markdown": [
       "<span style=\"color:#33cc33\">Correct</span>"
      ],
      "text/plain": [
       "Correct"
      ]
     },
     "metadata": {},
     "output_type": "display_data"
    }
   ],
   "source": [
    "# Query to select all columns where pollution levels are exactly 0\n",
    "zero_pollution_query = \"\"\"\n",
    "                        SELECT * \n",
    "                        FROM `bigquery-public-data.openaq.global_air_quality`\n",
    "                        WHERE value = 0\n",
    "                        \"\"\"\n",
    "\n",
    "# Set up the query\n",
    "safe_config = bigquery.QueryJobConfig(maximum_bytes_billed=10*1000*1000*1000)\n",
    "query_job = client.query(zero_pollution_query, job_config=safe_config)\n",
    "\n",
    "# API request - run the query and return a pandas DataFrame\n",
    "zero_pollution_results = query_job.to_dataframe()# Your code goes here\n",
    "\n",
    "print(zero_pollution_results.head())\n",
    "\n",
    "# Check your answer\n",
    "q_2.check()"
   ]
  },
  {
   "cell_type": "markdown",
   "id": "c73c4858",
   "metadata": {
    "papermill": {
     "duration": 0.016349,
     "end_time": "2022-03-15T13:27:02.413294",
     "exception": false,
     "start_time": "2022-03-15T13:27:02.396945",
     "status": "completed"
    },
    "tags": []
   },
   "source": [
    "For the solution, uncomment the line below."
   ]
  },
  {
   "cell_type": "code",
   "execution_count": 6,
   "id": "a7120757",
   "metadata": {
    "execution": {
     "iopub.execute_input": "2022-03-15T13:27:02.448813Z",
     "iopub.status.busy": "2022-03-15T13:27:02.447971Z",
     "iopub.status.idle": "2022-03-15T13:27:02.451055Z",
     "shell.execute_reply": "2022-03-15T13:27:02.450443Z"
    },
    "papermill": {
     "duration": 0.023077,
     "end_time": "2022-03-15T13:27:02.451199",
     "exception": false,
     "start_time": "2022-03-15T13:27:02.428122",
     "status": "completed"
    },
    "tags": []
   },
   "outputs": [],
   "source": [
    "#q_2.solution()"
   ]
  },
  {
   "cell_type": "markdown",
   "id": "317893a1",
   "metadata": {
    "papermill": {
     "duration": 0.015076,
     "end_time": "2022-03-15T13:27:02.481742",
     "exception": false,
     "start_time": "2022-03-15T13:27:02.466666",
     "status": "completed"
    },
    "tags": []
   },
   "source": [
    "That query wasn't too complicated, and it got the data you want. But these **SELECT** queries don't organizing data in a way that answers the most interesting questions. For that, we'll need the **GROUP BY** command. \n",
    "\n",
    "If you know how to use [`groupby()`](https://pandas.pydata.org/pandas-docs/stable/reference/api/pandas.DataFrame.groupby.html) in pandas, this is similar. But BigQuery works quickly with far larger datasets.\n",
    "\n",
    "Fortunately, that's next."
   ]
  },
  {
   "cell_type": "markdown",
   "id": "57cdb8f9",
   "metadata": {
    "papermill": {
     "duration": 0.015818,
     "end_time": "2022-03-15T13:27:02.512616",
     "exception": false,
     "start_time": "2022-03-15T13:27:02.496798",
     "status": "completed"
    },
    "tags": []
   },
   "source": [
    "# Keep going\n",
    "**[GROUP BY](https://www.kaggle.com/dansbecker/group-by-having-count)** clauses and their extensions give you the power to pull interesting statistics out of data, rather than receiving it in just its raw format."
   ]
  },
  {
   "cell_type": "markdown",
   "id": "8de58b9f",
   "metadata": {
    "papermill": {
     "duration": 0.01475,
     "end_time": "2022-03-15T13:27:02.542494",
     "exception": false,
     "start_time": "2022-03-15T13:27:02.527744",
     "status": "completed"
    },
    "tags": []
   },
   "source": [
    "---\n",
    "\n",
    "\n",
    "\n",
    "\n",
    "*Have questions or comments? Visit the [course discussion forum](https://www.kaggle.com/learn/intro-to-sql/discussion) to chat with other learners.*"
   ]
  }
 ],
 "metadata": {
  "kernelspec": {
   "display_name": "Python 3",
   "language": "python",
   "name": "python3"
  },
  "language_info": {
   "codemirror_mode": {
    "name": "ipython",
    "version": 3
   },
   "file_extension": ".py",
   "mimetype": "text/x-python",
   "name": "python",
   "nbconvert_exporter": "python",
   "pygments_lexer": "ipython3",
   "version": "3.7.12"
  },
  "papermill": {
   "default_parameters": {},
   "duration": 16.340615,
   "end_time": "2022-03-15T13:27:03.169528",
   "environment_variables": {},
   "exception": null,
   "input_path": "__notebook__.ipynb",
   "output_path": "__notebook__.ipynb",
   "parameters": {},
   "start_time": "2022-03-15T13:26:46.828913",
   "version": "2.3.3"
  }
 },
 "nbformat": 4,
 "nbformat_minor": 5
}
