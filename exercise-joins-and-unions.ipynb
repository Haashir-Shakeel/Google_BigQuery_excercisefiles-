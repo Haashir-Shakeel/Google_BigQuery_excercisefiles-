{
 "cells": [
  {
   "cell_type": "markdown",
   "id": "39903808",
   "metadata": {
    "papermill": {
     "duration": 0.021511,
     "end_time": "2022-03-29T18:48:47.221022",
     "exception": false,
     "start_time": "2022-03-29T18:48:47.199511",
     "status": "completed"
    },
    "tags": []
   },
   "source": [
    "**This notebook is an exercise in the [Advanced SQL](https://www.kaggle.com/learn/advanced-sql) course.  You can reference the tutorial at [this link](https://www.kaggle.com/alexisbcook/joins-and-unions).**\n",
    "\n",
    "---\n"
   ]
  },
  {
   "cell_type": "markdown",
   "id": "dff7b763",
   "metadata": {
    "papermill": {
     "duration": 0.01961,
     "end_time": "2022-03-29T18:48:47.261123",
     "exception": false,
     "start_time": "2022-03-29T18:48:47.241513",
     "status": "completed"
    },
    "tags": []
   },
   "source": [
    "# Introduction\n",
    "\n",
    "Here, you'll use different types of SQL **JOINs** to answer questions about the [Stack Overflow](https://www.kaggle.com/stackoverflow/stackoverflow) dataset.\n",
    "\n",
    "Before you get started, run the following cell to set everything up."
   ]
  },
  {
   "cell_type": "code",
   "execution_count": 1,
   "id": "d7517eb5",
   "metadata": {
    "execution": {
     "iopub.execute_input": "2022-03-29T18:48:47.310892Z",
     "iopub.status.busy": "2022-03-29T18:48:47.310149Z",
     "iopub.status.idle": "2022-03-29T18:49:03.280428Z",
     "shell.execute_reply": "2022-03-29T18:49:03.280998Z",
     "shell.execute_reply.started": "2022-03-29T18:13:01.325152Z"
    },
    "papermill": {
     "duration": 16.000578,
     "end_time": "2022-03-29T18:49:03.281384",
     "exception": false,
     "start_time": "2022-03-29T18:48:47.280806",
     "status": "completed"
    },
    "tags": []
   },
   "outputs": [
    {
     "name": "stdout",
     "output_type": "stream",
     "text": [
      "Using Kaggle's public dataset BigQuery integration.\n"
     ]
    },
    {
     "name": "stderr",
     "output_type": "stream",
     "text": [
      "/opt/conda/lib/python3.7/site-packages/google/cloud/bigquery/client.py:440: UserWarning: Cannot create BigQuery Storage client, the dependency google-cloud-bigquery-storage is not installed.\n",
      "  \"Cannot create BigQuery Storage client, the dependency \"\n"
     ]
    },
    {
     "name": "stdout",
     "output_type": "stream",
     "text": [
      "Setup Complete\n"
     ]
    }
   ],
   "source": [
    "# Set up feedback system\n",
    "from learntools.core import binder\n",
    "binder.bind(globals())\n",
    "from learntools.sql_advanced.ex1 import *\n",
    "print(\"Setup Complete\")"
   ]
  },
  {
   "cell_type": "markdown",
   "id": "796d6587",
   "metadata": {
    "papermill": {
     "duration": 0.020218,
     "end_time": "2022-03-29T18:49:03.322630",
     "exception": false,
     "start_time": "2022-03-29T18:49:03.302412",
     "status": "completed"
    },
    "tags": []
   },
   "source": [
    "The code cell below fetches the `posts_questions` table from the `stackoverflow` dataset.  We also preview the first five rows of the table."
   ]
  },
  {
   "cell_type": "code",
   "execution_count": 2,
   "id": "57fc7954",
   "metadata": {
    "execution": {
     "iopub.execute_input": "2022-03-29T18:49:03.367375Z",
     "iopub.status.busy": "2022-03-29T18:49:03.366687Z",
     "iopub.status.idle": "2022-03-29T18:49:04.286631Z",
     "shell.execute_reply": "2022-03-29T18:49:04.287136Z",
     "shell.execute_reply.started": "2022-03-29T18:17:08.571731Z"
    },
    "papermill": {
     "duration": 0.944044,
     "end_time": "2022-03-29T18:49:04.287302",
     "exception": false,
     "start_time": "2022-03-29T18:49:03.343258",
     "status": "completed"
    },
    "tags": []
   },
   "outputs": [
    {
     "name": "stdout",
     "output_type": "stream",
     "text": [
      "Using Kaggle's public dataset BigQuery integration.\n"
     ]
    },
    {
     "name": "stderr",
     "output_type": "stream",
     "text": [
      "/opt/conda/lib/python3.7/site-packages/ipykernel_launcher.py:19: UserWarning: Cannot use bqstorage_client if max_results is set, reverting to fetching data with the tabledata.list endpoint.\n"
     ]
    },
    {
     "data": {
      "text/html": [
       "<div>\n",
       "<style scoped>\n",
       "    .dataframe tbody tr th:only-of-type {\n",
       "        vertical-align: middle;\n",
       "    }\n",
       "\n",
       "    .dataframe tbody tr th {\n",
       "        vertical-align: top;\n",
       "    }\n",
       "\n",
       "    .dataframe thead th {\n",
       "        text-align: right;\n",
       "    }\n",
       "</style>\n",
       "<table border=\"1\" class=\"dataframe\">\n",
       "  <thead>\n",
       "    <tr style=\"text-align: right;\">\n",
       "      <th></th>\n",
       "      <th>id</th>\n",
       "      <th>title</th>\n",
       "      <th>body</th>\n",
       "      <th>accepted_answer_id</th>\n",
       "      <th>answer_count</th>\n",
       "      <th>comment_count</th>\n",
       "      <th>community_owned_date</th>\n",
       "      <th>creation_date</th>\n",
       "      <th>favorite_count</th>\n",
       "      <th>last_activity_date</th>\n",
       "      <th>last_edit_date</th>\n",
       "      <th>last_editor_display_name</th>\n",
       "      <th>last_editor_user_id</th>\n",
       "      <th>owner_display_name</th>\n",
       "      <th>owner_user_id</th>\n",
       "      <th>parent_id</th>\n",
       "      <th>post_type_id</th>\n",
       "      <th>score</th>\n",
       "      <th>tags</th>\n",
       "      <th>view_count</th>\n",
       "    </tr>\n",
       "  </thead>\n",
       "  <tbody>\n",
       "    <tr>\n",
       "      <th>0</th>\n",
       "      <td>71102071</td>\n",
       "      <td>How to generate a DateTime range by step of 5 ...</td>\n",
       "      <td>&lt;p&gt;How to generate a DateTime range by step of...</td>\n",
       "      <td>71103999.0</td>\n",
       "      <td>4</td>\n",
       "      <td>0</td>\n",
       "      <td>NaT</td>\n",
       "      <td>2022-02-13 15:22:57.060000+00:00</td>\n",
       "      <td>NaN</td>\n",
       "      <td>2022-02-14 02:29:36.017000+00:00</td>\n",
       "      <td>NaT</td>\n",
       "      <td>None</td>\n",
       "      <td>NaN</td>\n",
       "      <td>None</td>\n",
       "      <td>5829526</td>\n",
       "      <td>None</td>\n",
       "      <td>1</td>\n",
       "      <td>9</td>\n",
       "      <td>datetime|raku</td>\n",
       "      <td>512</td>\n",
       "    </tr>\n",
       "    <tr>\n",
       "      <th>1</th>\n",
       "      <td>71174390</td>\n",
       "      <td>exception event is counted as others not error...</td>\n",
       "      <td>&lt;p&gt;One picture worth any words, please take a ...</td>\n",
       "      <td>NaN</td>\n",
       "      <td>0</td>\n",
       "      <td>0</td>\n",
       "      <td>NaT</td>\n",
       "      <td>2022-02-18 13:36:38.667000+00:00</td>\n",
       "      <td>NaN</td>\n",
       "      <td>2022-02-18 13:36:38.667000+00:00</td>\n",
       "      <td>NaT</td>\n",
       "      <td>None</td>\n",
       "      <td>NaN</td>\n",
       "      <td>None</td>\n",
       "      <td>10974338</td>\n",
       "      <td>None</td>\n",
       "      <td>1</td>\n",
       "      <td>0</td>\n",
       "      <td>google-analytics-4</td>\n",
       "      <td>1</td>\n",
       "    </tr>\n",
       "    <tr>\n",
       "      <th>2</th>\n",
       "      <td>71055438</td>\n",
       "      <td>Promo tab is not rendering on my new iPhone 13...</td>\n",
       "      <td>&lt;p&gt;I'm responsible for creating and testing th...</td>\n",
       "      <td>NaN</td>\n",
       "      <td>0</td>\n",
       "      <td>0</td>\n",
       "      <td>NaT</td>\n",
       "      <td>2022-02-09 19:16:58.180000+00:00</td>\n",
       "      <td>NaN</td>\n",
       "      <td>2022-02-09 19:16:58.180000+00:00</td>\n",
       "      <td>NaT</td>\n",
       "      <td>None</td>\n",
       "      <td>NaN</td>\n",
       "      <td>None</td>\n",
       "      <td>18164503</td>\n",
       "      <td>None</td>\n",
       "      <td>1</td>\n",
       "      <td>0</td>\n",
       "      <td>gmail-promo-tab</td>\n",
       "      <td>2</td>\n",
       "    </tr>\n",
       "    <tr>\n",
       "      <th>3</th>\n",
       "      <td>71065295</td>\n",
       "      <td>How to calculate Session Duration of a subscri...</td>\n",
       "      <td>&lt;p&gt;We have a publisher and a lot of subscriber...</td>\n",
       "      <td>NaN</td>\n",
       "      <td>0</td>\n",
       "      <td>0</td>\n",
       "      <td>NaT</td>\n",
       "      <td>2022-02-10 12:42:24.747000+00:00</td>\n",
       "      <td>NaN</td>\n",
       "      <td>2022-02-22 19:46:03.107000+00:00</td>\n",
       "      <td>2022-02-22 19:46:03.107000+00:00</td>\n",
       "      <td>None</td>\n",
       "      <td>446477.0</td>\n",
       "      <td>None</td>\n",
       "      <td>18089656</td>\n",
       "      <td>None</td>\n",
       "      <td>1</td>\n",
       "      <td>0</td>\n",
       "      <td>opentok</td>\n",
       "      <td>2</td>\n",
       "    </tr>\n",
       "    <tr>\n",
       "      <th>4</th>\n",
       "      <td>71066950</td>\n",
       "      <td>In extent reports test tab ss null and in exce...</td>\n",
       "      <td>&lt;pre&gt;&lt;code&gt;'public void logo(Method method, IT...</td>\n",
       "      <td>NaN</td>\n",
       "      <td>0</td>\n",
       "      <td>0</td>\n",
       "      <td>NaT</td>\n",
       "      <td>2022-02-10 14:32:31.617000+00:00</td>\n",
       "      <td>NaN</td>\n",
       "      <td>2022-02-10 14:32:31.617000+00:00</td>\n",
       "      <td>NaT</td>\n",
       "      <td>None</td>\n",
       "      <td>NaN</td>\n",
       "      <td>None</td>\n",
       "      <td>8193498</td>\n",
       "      <td>None</td>\n",
       "      <td>1</td>\n",
       "      <td>0</td>\n",
       "      <td>selenium|automated-tests|reporting|extentrepor...</td>\n",
       "      <td>2</td>\n",
       "    </tr>\n",
       "  </tbody>\n",
       "</table>\n",
       "</div>"
      ],
      "text/plain": [
       "         id                                              title  \\\n",
       "0  71102071  How to generate a DateTime range by step of 5 ...   \n",
       "1  71174390  exception event is counted as others not error...   \n",
       "2  71055438  Promo tab is not rendering on my new iPhone 13...   \n",
       "3  71065295  How to calculate Session Duration of a subscri...   \n",
       "4  71066950  In extent reports test tab ss null and in exce...   \n",
       "\n",
       "                                                body  accepted_answer_id  \\\n",
       "0  <p>How to generate a DateTime range by step of...          71103999.0   \n",
       "1  <p>One picture worth any words, please take a ...                 NaN   \n",
       "2  <p>I'm responsible for creating and testing th...                 NaN   \n",
       "3  <p>We have a publisher and a lot of subscriber...                 NaN   \n",
       "4  <pre><code>'public void logo(Method method, IT...                 NaN   \n",
       "\n",
       "   answer_count  comment_count community_owned_date  \\\n",
       "0             4              0                  NaT   \n",
       "1             0              0                  NaT   \n",
       "2             0              0                  NaT   \n",
       "3             0              0                  NaT   \n",
       "4             0              0                  NaT   \n",
       "\n",
       "                     creation_date  favorite_count  \\\n",
       "0 2022-02-13 15:22:57.060000+00:00             NaN   \n",
       "1 2022-02-18 13:36:38.667000+00:00             NaN   \n",
       "2 2022-02-09 19:16:58.180000+00:00             NaN   \n",
       "3 2022-02-10 12:42:24.747000+00:00             NaN   \n",
       "4 2022-02-10 14:32:31.617000+00:00             NaN   \n",
       "\n",
       "                last_activity_date                   last_edit_date  \\\n",
       "0 2022-02-14 02:29:36.017000+00:00                              NaT   \n",
       "1 2022-02-18 13:36:38.667000+00:00                              NaT   \n",
       "2 2022-02-09 19:16:58.180000+00:00                              NaT   \n",
       "3 2022-02-22 19:46:03.107000+00:00 2022-02-22 19:46:03.107000+00:00   \n",
       "4 2022-02-10 14:32:31.617000+00:00                              NaT   \n",
       "\n",
       "  last_editor_display_name  last_editor_user_id owner_display_name  \\\n",
       "0                     None                  NaN               None   \n",
       "1                     None                  NaN               None   \n",
       "2                     None                  NaN               None   \n",
       "3                     None             446477.0               None   \n",
       "4                     None                  NaN               None   \n",
       "\n",
       "   owner_user_id parent_id  post_type_id  score  \\\n",
       "0        5829526      None             1      9   \n",
       "1       10974338      None             1      0   \n",
       "2       18164503      None             1      0   \n",
       "3       18089656      None             1      0   \n",
       "4        8193498      None             1      0   \n",
       "\n",
       "                                                tags  view_count  \n",
       "0                                      datetime|raku         512  \n",
       "1                                 google-analytics-4           1  \n",
       "2                                    gmail-promo-tab           2  \n",
       "3                                            opentok           2  \n",
       "4  selenium|automated-tests|reporting|extentrepor...           2  "
      ]
     },
     "execution_count": 2,
     "metadata": {},
     "output_type": "execute_result"
    }
   ],
   "source": [
    "from google.cloud import bigquery\n",
    "\n",
    "# Create a \"Client\" object\n",
    "client = bigquery.Client()\n",
    "\n",
    "# Construct a reference to the \"stackoverflow\" dataset\n",
    "dataset_ref = client.dataset(\"stackoverflow\", project=\"bigquery-public-data\")\n",
    "\n",
    "# API request - fetch the dataset\n",
    "dataset = client.get_dataset(dataset_ref)\n",
    "\n",
    "# Construct a reference to the \"posts_questions\" table\n",
    "table_ref = dataset_ref.table(\"posts_questions\")\n",
    "\n",
    "# API request - fetch the table\n",
    "table = client.get_table(table_ref)\n",
    "\n",
    "# Preview the first five lines of the table\n",
    "client.list_rows(table, max_results=5).to_dataframe()"
   ]
  },
  {
   "cell_type": "markdown",
   "id": "0fc83052",
   "metadata": {
    "papermill": {
     "duration": 0.021635,
     "end_time": "2022-03-29T18:49:04.330842",
     "exception": false,
     "start_time": "2022-03-29T18:49:04.309207",
     "status": "completed"
    },
    "tags": []
   },
   "source": [
    "We also take a look at the `posts_answers` table."
   ]
  },
  {
   "cell_type": "code",
   "execution_count": 3,
   "id": "6a6fe673",
   "metadata": {
    "execution": {
     "iopub.execute_input": "2022-03-29T18:49:04.378233Z",
     "iopub.status.busy": "2022-03-29T18:49:04.377559Z",
     "iopub.status.idle": "2022-03-29T18:49:05.263360Z",
     "shell.execute_reply": "2022-03-29T18:49:05.263823Z",
     "shell.execute_reply.started": "2022-03-29T18:17:12.817131Z"
    },
    "papermill": {
     "duration": 0.911342,
     "end_time": "2022-03-29T18:49:05.263993",
     "exception": false,
     "start_time": "2022-03-29T18:49:04.352651",
     "status": "completed"
    },
    "tags": []
   },
   "outputs": [
    {
     "name": "stderr",
     "output_type": "stream",
     "text": [
      "/opt/conda/lib/python3.7/site-packages/ipykernel_launcher.py:8: UserWarning: Cannot use bqstorage_client if max_results is set, reverting to fetching data with the tabledata.list endpoint.\n",
      "  \n"
     ]
    },
    {
     "data": {
      "text/html": [
       "<div>\n",
       "<style scoped>\n",
       "    .dataframe tbody tr th:only-of-type {\n",
       "        vertical-align: middle;\n",
       "    }\n",
       "\n",
       "    .dataframe tbody tr th {\n",
       "        vertical-align: top;\n",
       "    }\n",
       "\n",
       "    .dataframe thead th {\n",
       "        text-align: right;\n",
       "    }\n",
       "</style>\n",
       "<table border=\"1\" class=\"dataframe\">\n",
       "  <thead>\n",
       "    <tr style=\"text-align: right;\">\n",
       "      <th></th>\n",
       "      <th>id</th>\n",
       "      <th>title</th>\n",
       "      <th>body</th>\n",
       "      <th>accepted_answer_id</th>\n",
       "      <th>answer_count</th>\n",
       "      <th>comment_count</th>\n",
       "      <th>community_owned_date</th>\n",
       "      <th>creation_date</th>\n",
       "      <th>favorite_count</th>\n",
       "      <th>last_activity_date</th>\n",
       "      <th>last_edit_date</th>\n",
       "      <th>last_editor_display_name</th>\n",
       "      <th>last_editor_user_id</th>\n",
       "      <th>owner_display_name</th>\n",
       "      <th>owner_user_id</th>\n",
       "      <th>parent_id</th>\n",
       "      <th>post_type_id</th>\n",
       "      <th>score</th>\n",
       "      <th>tags</th>\n",
       "      <th>view_count</th>\n",
       "    </tr>\n",
       "  </thead>\n",
       "  <tbody>\n",
       "    <tr>\n",
       "      <th>0</th>\n",
       "      <td>14616222</td>\n",
       "      <td>None</td>\n",
       "      <td>&lt;p&gt;&lt;strong&gt;The solution mentioned in your link...</td>\n",
       "      <td>None</td>\n",
       "      <td>None</td>\n",
       "      <td>0</td>\n",
       "      <td>NaT</td>\n",
       "      <td>2013-01-31 00:06:21.843000+00:00</td>\n",
       "      <td>None</td>\n",
       "      <td>2013-01-31 00:06:21.843000+00:00</td>\n",
       "      <td>NaT</td>\n",
       "      <td>None</td>\n",
       "      <td>NaN</td>\n",
       "      <td>None</td>\n",
       "      <td>1870254</td>\n",
       "      <td>14612955</td>\n",
       "      <td>2</td>\n",
       "      <td>0</td>\n",
       "      <td>None</td>\n",
       "      <td>None</td>\n",
       "    </tr>\n",
       "    <tr>\n",
       "      <th>1</th>\n",
       "      <td>14616224</td>\n",
       "      <td>None</td>\n",
       "      <td>&lt;p&gt;You'll have to select from a subquery.  Som...</td>\n",
       "      <td>None</td>\n",
       "      <td>None</td>\n",
       "      <td>0</td>\n",
       "      <td>NaT</td>\n",
       "      <td>2013-01-31 00:06:31.627000+00:00</td>\n",
       "      <td>None</td>\n",
       "      <td>2013-01-31 00:06:31.627000+00:00</td>\n",
       "      <td>NaT</td>\n",
       "      <td>None</td>\n",
       "      <td>NaN</td>\n",
       "      <td>None</td>\n",
       "      <td>1832636</td>\n",
       "      <td>14616093</td>\n",
       "      <td>2</td>\n",
       "      <td>0</td>\n",
       "      <td>None</td>\n",
       "      <td>None</td>\n",
       "    </tr>\n",
       "    <tr>\n",
       "      <th>2</th>\n",
       "      <td>14616234</td>\n",
       "      <td>None</td>\n",
       "      <td>&lt;p&gt;If you use &lt;code&gt;==&lt;/code&gt; operator with &lt;c...</td>\n",
       "      <td>None</td>\n",
       "      <td>None</td>\n",
       "      <td>0</td>\n",
       "      <td>NaT</td>\n",
       "      <td>2013-01-31 00:07:33.873000+00:00</td>\n",
       "      <td>None</td>\n",
       "      <td>2020-06-13 08:31:22.693000+00:00</td>\n",
       "      <td>2020-06-13 08:31:22.693000+00:00</td>\n",
       "      <td>None</td>\n",
       "      <td>2016562.0</td>\n",
       "      <td>None</td>\n",
       "      <td>2016562</td>\n",
       "      <td>14614928</td>\n",
       "      <td>2</td>\n",
       "      <td>0</td>\n",
       "      <td>None</td>\n",
       "      <td>None</td>\n",
       "    </tr>\n",
       "    <tr>\n",
       "      <th>3</th>\n",
       "      <td>14616266</td>\n",
       "      <td>None</td>\n",
       "      <td>&lt;p&gt;Perhaps I misunderstand your question.  Why...</td>\n",
       "      <td>None</td>\n",
       "      <td>None</td>\n",
       "      <td>0</td>\n",
       "      <td>NaT</td>\n",
       "      <td>2013-01-31 00:09:50.700000+00:00</td>\n",
       "      <td>None</td>\n",
       "      <td>2013-01-31 00:09:50.700000+00:00</td>\n",
       "      <td>NaT</td>\n",
       "      <td>None</td>\n",
       "      <td>NaN</td>\n",
       "      <td>None</td>\n",
       "      <td>223175</td>\n",
       "      <td>13535893</td>\n",
       "      <td>2</td>\n",
       "      <td>0</td>\n",
       "      <td>None</td>\n",
       "      <td>None</td>\n",
       "    </tr>\n",
       "    <tr>\n",
       "      <th>4</th>\n",
       "      <td>14616271</td>\n",
       "      <td>None</td>\n",
       "      <td>&lt;p&gt;When using&lt;/p&gt;\\n\\n&lt;pre&gt;&lt;code&gt;margin:auto;\\n...</td>\n",
       "      <td>None</td>\n",
       "      <td>None</td>\n",
       "      <td>0</td>\n",
       "      <td>NaT</td>\n",
       "      <td>2013-01-31 00:10:09.107000+00:00</td>\n",
       "      <td>None</td>\n",
       "      <td>2013-01-31 00:10:09.107000+00:00</td>\n",
       "      <td>NaT</td>\n",
       "      <td>None</td>\n",
       "      <td>NaN</td>\n",
       "      <td>None</td>\n",
       "      <td>1934286</td>\n",
       "      <td>14613725</td>\n",
       "      <td>2</td>\n",
       "      <td>0</td>\n",
       "      <td>None</td>\n",
       "      <td>None</td>\n",
       "    </tr>\n",
       "  </tbody>\n",
       "</table>\n",
       "</div>"
      ],
      "text/plain": [
       "         id title                                               body  \\\n",
       "0  14616222  None  <p><strong>The solution mentioned in your link...   \n",
       "1  14616224  None  <p>You'll have to select from a subquery.  Som...   \n",
       "2  14616234  None  <p>If you use <code>==</code> operator with <c...   \n",
       "3  14616266  None  <p>Perhaps I misunderstand your question.  Why...   \n",
       "4  14616271  None  <p>When using</p>\\n\\n<pre><code>margin:auto;\\n...   \n",
       "\n",
       "  accepted_answer_id answer_count  comment_count community_owned_date  \\\n",
       "0               None         None              0                  NaT   \n",
       "1               None         None              0                  NaT   \n",
       "2               None         None              0                  NaT   \n",
       "3               None         None              0                  NaT   \n",
       "4               None         None              0                  NaT   \n",
       "\n",
       "                     creation_date favorite_count  \\\n",
       "0 2013-01-31 00:06:21.843000+00:00           None   \n",
       "1 2013-01-31 00:06:31.627000+00:00           None   \n",
       "2 2013-01-31 00:07:33.873000+00:00           None   \n",
       "3 2013-01-31 00:09:50.700000+00:00           None   \n",
       "4 2013-01-31 00:10:09.107000+00:00           None   \n",
       "\n",
       "                last_activity_date                   last_edit_date  \\\n",
       "0 2013-01-31 00:06:21.843000+00:00                              NaT   \n",
       "1 2013-01-31 00:06:31.627000+00:00                              NaT   \n",
       "2 2020-06-13 08:31:22.693000+00:00 2020-06-13 08:31:22.693000+00:00   \n",
       "3 2013-01-31 00:09:50.700000+00:00                              NaT   \n",
       "4 2013-01-31 00:10:09.107000+00:00                              NaT   \n",
       "\n",
       "  last_editor_display_name  last_editor_user_id owner_display_name  \\\n",
       "0                     None                  NaN               None   \n",
       "1                     None                  NaN               None   \n",
       "2                     None            2016562.0               None   \n",
       "3                     None                  NaN               None   \n",
       "4                     None                  NaN               None   \n",
       "\n",
       "   owner_user_id  parent_id  post_type_id  score  tags view_count  \n",
       "0        1870254   14612955             2      0  None       None  \n",
       "1        1832636   14616093             2      0  None       None  \n",
       "2        2016562   14614928             2      0  None       None  \n",
       "3         223175   13535893             2      0  None       None  \n",
       "4        1934286   14613725             2      0  None       None  "
      ]
     },
     "execution_count": 3,
     "metadata": {},
     "output_type": "execute_result"
    }
   ],
   "source": [
    "# Construct a reference to the \"posts_answers\" table\n",
    "table_ref = dataset_ref.table(\"posts_answers\")\n",
    "\n",
    "# API request - fetch the table\n",
    "table = client.get_table(table_ref)\n",
    "\n",
    "# Preview the first five lines of the table\n",
    "client.list_rows(table, max_results=5).to_dataframe()"
   ]
  },
  {
   "cell_type": "markdown",
   "id": "3da2b298",
   "metadata": {
    "papermill": {
     "duration": 0.022853,
     "end_time": "2022-03-29T18:49:05.311215",
     "exception": false,
     "start_time": "2022-03-29T18:49:05.288362",
     "status": "completed"
    },
    "tags": []
   },
   "source": [
    "You will work with both of these tables to answer the questions below.\n",
    "\n",
    "# Exercises\n",
    "\n",
    "### 1) How long does it take for questions to receive answers?\n",
    "\n",
    "You're interested in exploring the data to have a better understanding of how long it generally takes for questions to receive answers.  Armed with this knowledge, you plan to use this information to better design the order in which questions are presented to Stack Overflow users.\n",
    "\n",
    "With this goal in mind, you write the query below, which focuses on questions asked in January 2018.  It returns a table with two columns:\n",
    "- `q_id` - the ID of the question\n",
    "- `time_to_answer` - how long it took (in seconds) for the question to receive an answer\n",
    "\n",
    "Run the query below (without changes), and take a look at the output."
   ]
  },
  {
   "cell_type": "code",
   "execution_count": 4,
   "id": "c339182d",
   "metadata": {
    "execution": {
     "iopub.execute_input": "2022-03-29T18:49:05.361594Z",
     "iopub.status.busy": "2022-03-29T18:49:05.360862Z",
     "iopub.status.idle": "2022-03-29T18:49:10.542251Z",
     "shell.execute_reply": "2022-03-29T18:49:10.541428Z",
     "shell.execute_reply.started": "2022-03-29T18:17:15.946432Z"
    },
    "papermill": {
     "duration": 5.208245,
     "end_time": "2022-03-29T18:49:10.542446",
     "exception": false,
     "start_time": "2022-03-29T18:49:05.334201",
     "status": "completed"
    },
    "tags": []
   },
   "outputs": [
    {
     "name": "stderr",
     "output_type": "stream",
     "text": [
      "/opt/conda/lib/python3.7/site-packages/google/cloud/bigquery/client.py:440: UserWarning: Cannot create BigQuery Storage client, the dependency google-cloud-bigquery-storage is not installed.\n",
      "  \"Cannot create BigQuery Storage client, the dependency \"\n"
     ]
    },
    {
     "name": "stdout",
     "output_type": "stream",
     "text": [
      "Percentage of answered questions: 100.0%\n",
      "Number of questions: 134731\n"
     ]
    },
    {
     "data": {
      "text/html": [
       "<div>\n",
       "<style scoped>\n",
       "    .dataframe tbody tr th:only-of-type {\n",
       "        vertical-align: middle;\n",
       "    }\n",
       "\n",
       "    .dataframe tbody tr th {\n",
       "        vertical-align: top;\n",
       "    }\n",
       "\n",
       "    .dataframe thead th {\n",
       "        text-align: right;\n",
       "    }\n",
       "</style>\n",
       "<table border=\"1\" class=\"dataframe\">\n",
       "  <thead>\n",
       "    <tr style=\"text-align: right;\">\n",
       "      <th></th>\n",
       "      <th>q_id</th>\n",
       "      <th>time_to_answer</th>\n",
       "    </tr>\n",
       "  </thead>\n",
       "  <tbody>\n",
       "    <tr>\n",
       "      <th>0</th>\n",
       "      <td>48382183</td>\n",
       "      <td>-132444692</td>\n",
       "    </tr>\n",
       "    <tr>\n",
       "      <th>1</th>\n",
       "      <td>48511133</td>\n",
       "      <td>0</td>\n",
       "    </tr>\n",
       "    <tr>\n",
       "      <th>2</th>\n",
       "      <td>48191685</td>\n",
       "      <td>0</td>\n",
       "    </tr>\n",
       "    <tr>\n",
       "      <th>3</th>\n",
       "      <td>48189935</td>\n",
       "      <td>0</td>\n",
       "    </tr>\n",
       "    <tr>\n",
       "      <th>4</th>\n",
       "      <td>48431434</td>\n",
       "      <td>0</td>\n",
       "    </tr>\n",
       "  </tbody>\n",
       "</table>\n",
       "</div>"
      ],
      "text/plain": [
       "       q_id  time_to_answer\n",
       "0  48382183      -132444692\n",
       "1  48511133               0\n",
       "2  48191685               0\n",
       "3  48189935               0\n",
       "4  48431434               0"
      ]
     },
     "execution_count": 4,
     "metadata": {},
     "output_type": "execute_result"
    }
   ],
   "source": [
    "first_query = \"\"\"\n",
    "              SELECT q.id AS q_id,\n",
    "                  MIN(TIMESTAMP_DIFF(a.creation_date, q.creation_date, SECOND)) as time_to_answer\n",
    "              FROM `bigquery-public-data.stackoverflow.posts_questions` AS q\n",
    "                  INNER JOIN `bigquery-public-data.stackoverflow.posts_answers` AS a\n",
    "              ON q.id = a.parent_id\n",
    "              WHERE q.creation_date >= '2018-01-01' and q.creation_date < '2018-02-01'\n",
    "              GROUP BY q_id\n",
    "              ORDER BY time_to_answer\n",
    "              \"\"\"\n",
    "\n",
    "first_result = client.query(first_query).result().to_dataframe()\n",
    "print(\"Percentage of answered questions: %s%%\" % \\\n",
    "      (sum(first_result[\"time_to_answer\"].notnull()) / len(first_result) * 100))\n",
    "print(\"Number of questions:\", len(first_result))\n",
    "first_result.head()"
   ]
  },
  {
   "cell_type": "markdown",
   "id": "8886342c",
   "metadata": {
    "papermill": {
     "duration": 0.02388,
     "end_time": "2022-03-29T18:49:10.591495",
     "exception": false,
     "start_time": "2022-03-29T18:49:10.567615",
     "status": "completed"
    },
    "tags": []
   },
   "source": [
    "You're surprised at the results and strongly suspect that something is wrong with your query.  In particular,\n",
    "- According to the query, 100% of the questions from January 2018 received an answer.  But, you know that ~80% of the questions on the site usually receive an answer.\n",
    "- The total number of questions is surprisingly low.  You expected to see at least 150,000 questions represented in the table.\n",
    "\n",
    "Given these observations, you think that the type of **JOIN** you have chosen has inadvertently excluded unanswered questions.  Using the code cell below, can you figure out what type of **JOIN** to use to fix the problem so that the table includes unanswered questions?\n",
    "\n",
    "**Note**: You need only amend the type of **JOIN** (i.e., **INNER**, **LEFT**, **RIGHT**, or **FULL**) to answer the question successfully."
   ]
  },
  {
   "cell_type": "code",
   "execution_count": 5,
   "id": "8d5b3d00",
   "metadata": {
    "execution": {
     "iopub.execute_input": "2022-03-29T18:49:10.647049Z",
     "iopub.status.busy": "2022-03-29T18:49:10.646401Z",
     "iopub.status.idle": "2022-03-29T18:49:23.417923Z",
     "shell.execute_reply": "2022-03-29T18:49:23.418631Z",
     "shell.execute_reply.started": "2022-03-29T18:17:27.104795Z"
    },
    "papermill": {
     "duration": 12.802509,
     "end_time": "2022-03-29T18:49:23.418886",
     "exception": false,
     "start_time": "2022-03-29T18:49:10.616377",
     "status": "completed"
    },
    "tags": []
   },
   "outputs": [
    {
     "name": "stderr",
     "output_type": "stream",
     "text": [
      "/opt/conda/lib/python3.7/site-packages/google/cloud/bigquery/client.py:440: UserWarning: Cannot create BigQuery Storage client, the dependency google-cloud-bigquery-storage is not installed.\n",
      "  \"Cannot create BigQuery Storage client, the dependency \"\n"
     ]
    },
    {
     "data": {
      "text/html": [
       "<div>\n",
       "<style scoped>\n",
       "    .dataframe tbody tr th:only-of-type {\n",
       "        vertical-align: middle;\n",
       "    }\n",
       "\n",
       "    .dataframe tbody tr th {\n",
       "        vertical-align: top;\n",
       "    }\n",
       "\n",
       "    .dataframe thead th {\n",
       "        text-align: right;\n",
       "    }\n",
       "</style>\n",
       "<table border=\"1\" class=\"dataframe\">\n",
       "  <thead>\n",
       "    <tr style=\"text-align: right;\">\n",
       "      <th></th>\n",
       "      <th>q_id</th>\n",
       "      <th>time_to_answer</th>\n",
       "    </tr>\n",
       "  </thead>\n",
       "  <tbody>\n",
       "    <tr>\n",
       "      <th>0</th>\n",
       "      <td>48058396</td>\n",
       "      <td>NaN</td>\n",
       "    </tr>\n",
       "    <tr>\n",
       "      <th>1</th>\n",
       "      <td>48125986</td>\n",
       "      <td>NaN</td>\n",
       "    </tr>\n",
       "    <tr>\n",
       "      <th>2</th>\n",
       "      <td>48128818</td>\n",
       "      <td>NaN</td>\n",
       "    </tr>\n",
       "    <tr>\n",
       "      <th>3</th>\n",
       "      <td>48120130</td>\n",
       "      <td>NaN</td>\n",
       "    </tr>\n",
       "    <tr>\n",
       "      <th>4</th>\n",
       "      <td>48479553</td>\n",
       "      <td>NaN</td>\n",
       "    </tr>\n",
       "  </tbody>\n",
       "</table>\n",
       "</div>"
      ],
      "text/plain": [
       "       q_id  time_to_answer\n",
       "0  48058396             NaN\n",
       "1  48125986             NaN\n",
       "2  48128818             NaN\n",
       "3  48120130             NaN\n",
       "4  48479553             NaN"
      ]
     },
     "metadata": {},
     "output_type": "display_data"
    },
    {
     "data": {
      "application/javascript": [
       "parent.postMessage({\"jupyterEvent\": \"custom.exercise_interaction\", \"data\": {\"outcomeType\": 1, \"valueTowardsCompletion\": 0.25, \"interactionType\": 1, \"questionType\": 2, \"questionId\": \"1_CorrectQuery\", \"learnToolsVersion\": \"0.3.4\", \"failureMessage\": \"\", \"exceptionClass\": \"\", \"trace\": \"\"}}, \"*\")"
      ],
      "text/plain": [
       "<IPython.core.display.Javascript object>"
      ]
     },
     "metadata": {},
     "output_type": "display_data"
    },
    {
     "data": {
      "text/markdown": [
       "<span style=\"color:#33cc33\">Correct</span>"
      ],
      "text/plain": [
       "Correct"
      ]
     },
     "metadata": {},
     "output_type": "display_data"
    },
    {
     "name": "stderr",
     "output_type": "stream",
     "text": [
      "/opt/conda/lib/python3.7/site-packages/google/cloud/bigquery/client.py:440: UserWarning: Cannot create BigQuery Storage client, the dependency google-cloud-bigquery-storage is not installed.\n",
      "  \"Cannot create BigQuery Storage client, the dependency \"\n"
     ]
    },
    {
     "name": "stdout",
     "output_type": "stream",
     "text": [
      "Percentage of answered questions: 83.25104889487571%\n",
      "Number of questions: 161837\n"
     ]
    }
   ],
   "source": [
    "# Your code here\n",
    "correct_query = \"\"\"\n",
    "              SELECT q.id AS q_id,\n",
    "              MIN(TIMESTAMP_DIFF(a.creation_date, q.creation_date, SECOND)) as time_to_answer\n",
    "              FROM `bigquery-public-data.stackoverflow.posts_questions` AS q\n",
    "              LEFT JOIN `bigquery-public-data.stackoverflow.posts_answers` AS a\n",
    "              ON q.id = a.parent_id\n",
    "              WHERE q.creation_date >= '2018-01-01' and q.creation_date < '2018-02-01'\n",
    "              GROUP BY q_id\n",
    "              ORDER BY time_to_answer\n",
    "                \"\"\"\n",
    "\n",
    "# Check your answer\n",
    "q_1.check()\n",
    "\n",
    "# Run the query, and return a pandas DataFrame\n",
    "correct_result = client.query(correct_query).result().to_dataframe()\n",
    "print(\"Percentage of answered questions: %s%%\" % \\\n",
    "      (sum(correct_result[\"time_to_answer\"].notnull()) / len(correct_result) * 100))\n",
    "print(\"Number of questions:\", len(correct_result))"
   ]
  },
  {
   "cell_type": "code",
   "execution_count": 6,
   "id": "eda829b7",
   "metadata": {
    "execution": {
     "iopub.execute_input": "2022-03-29T18:49:23.481615Z",
     "iopub.status.busy": "2022-03-29T18:49:23.480646Z",
     "iopub.status.idle": "2022-03-29T18:49:23.483956Z",
     "shell.execute_reply": "2022-03-29T18:49:23.483367Z",
     "shell.execute_reply.started": "2022-03-29T18:11:45.586032Z"
    },
    "papermill": {
     "duration": 0.035924,
     "end_time": "2022-03-29T18:49:23.484137",
     "exception": false,
     "start_time": "2022-03-29T18:49:23.448213",
     "status": "completed"
    },
    "tags": []
   },
   "outputs": [],
   "source": [
    "# Lines below will give you a hint or solution code\n",
    "#q_1.hint()\n",
    "#q_1.solution()"
   ]
  },
  {
   "cell_type": "markdown",
   "id": "26232036",
   "metadata": {
    "papermill": {
     "duration": 0.026888,
     "end_time": "2022-03-29T18:49:23.538626",
     "exception": false,
     "start_time": "2022-03-29T18:49:23.511738",
     "status": "completed"
    },
    "tags": []
   },
   "source": [
    "### 2) Initial questions and answers, Part 1\n",
    "\n",
    "You're interested in understanding the initial experiences that users typically have with the Stack Overflow website.  Is it more common for users to first ask questions or provide answers?  After signing up, how long does it take for users to first interact with the website?  To explore this further, you draft the (partial) query in the code cell below.\n",
    "\n",
    "The query returns a table with three columns:\n",
    "- `owner_user_id` - the user ID\n",
    "- `q_creation_date` - the first time the user asked a question \n",
    "- `a_creation_date` - the first time the user contributed an answer \n",
    "\n",
    "You want to keep track of users who have asked questions, but have yet to provide answers.  And, your table should also include users who have answered questions, but have yet to pose their own questions.  \n",
    "\n",
    "With this in mind, please fill in the appropriate **JOIN** (i.e., **INNER**, **LEFT**, **RIGHT**, or **FULL**) to return the correct information.  \n",
    "\n",
    "**Note**: You need only fill in the appropriate **JOIN**.  All other parts of the query should be left as-is.  (You also don't need to write any additional code to run the query, since the `check()` method will take care of this for you.)\n",
    "\n",
    "To avoid returning too much data, we'll restrict our attention to questions and answers posed in January 2019.  We'll amend the timeframe in Part 2 of this question to be more realistic!"
   ]
  },
  {
   "cell_type": "code",
   "execution_count": 7,
   "id": "3ad659bc",
   "metadata": {
    "execution": {
     "iopub.execute_input": "2022-03-29T18:49:23.604097Z",
     "iopub.status.busy": "2022-03-29T18:49:23.603359Z",
     "iopub.status.idle": "2022-03-29T18:49:26.383654Z",
     "shell.execute_reply": "2022-03-29T18:49:26.383127Z",
     "shell.execute_reply.started": "2022-03-29T18:20:55.128139Z"
    },
    "papermill": {
     "duration": 2.816291,
     "end_time": "2022-03-29T18:49:26.383787",
     "exception": false,
     "start_time": "2022-03-29T18:49:23.567496",
     "status": "completed"
    },
    "tags": []
   },
   "outputs": [
    {
     "data": {
      "text/html": [
       "<div>\n",
       "<style scoped>\n",
       "    .dataframe tbody tr th:only-of-type {\n",
       "        vertical-align: middle;\n",
       "    }\n",
       "\n",
       "    .dataframe tbody tr th {\n",
       "        vertical-align: top;\n",
       "    }\n",
       "\n",
       "    .dataframe thead th {\n",
       "        text-align: right;\n",
       "    }\n",
       "</style>\n",
       "<table border=\"1\" class=\"dataframe\">\n",
       "  <thead>\n",
       "    <tr style=\"text-align: right;\">\n",
       "      <th></th>\n",
       "      <th>owner_user_id</th>\n",
       "      <th>q_creation_date</th>\n",
       "      <th>a_creation_date</th>\n",
       "    </tr>\n",
       "  </thead>\n",
       "  <tbody>\n",
       "    <tr>\n",
       "      <th>0</th>\n",
       "      <td>10515677</td>\n",
       "      <td>2019-01-01 22:20:16.900000+00:00</td>\n",
       "      <td>2019-01-01 03:38:21.560000+00:00</td>\n",
       "    </tr>\n",
       "    <tr>\n",
       "      <th>1</th>\n",
       "      <td>7294900</td>\n",
       "      <td>2019-01-01 04:14:42.093000+00:00</td>\n",
       "      <td>2019-01-01 09:23:44.083000+00:00</td>\n",
       "    </tr>\n",
       "    <tr>\n",
       "      <th>2</th>\n",
       "      <td>7092472</td>\n",
       "      <td>2019-01-26 05:43:44.177000+00:00</td>\n",
       "      <td>2019-01-01 09:28:07.277000+00:00</td>\n",
       "    </tr>\n",
       "    <tr>\n",
       "      <th>3</th>\n",
       "      <td>7208364</td>\n",
       "      <td>2019-01-09 04:38:41.117000+00:00</td>\n",
       "      <td>2019-01-01 12:41:06.293000+00:00</td>\n",
       "    </tr>\n",
       "    <tr>\n",
       "      <th>4</th>\n",
       "      <td>6943737</td>\n",
       "      <td>2019-01-01 05:36:39.403000+00:00</td>\n",
       "      <td>2019-01-01 12:43:07.357000+00:00</td>\n",
       "    </tr>\n",
       "  </tbody>\n",
       "</table>\n",
       "</div>"
      ],
      "text/plain": [
       "   owner_user_id                  q_creation_date  \\\n",
       "0       10515677 2019-01-01 22:20:16.900000+00:00   \n",
       "1        7294900 2019-01-01 04:14:42.093000+00:00   \n",
       "2        7092472 2019-01-26 05:43:44.177000+00:00   \n",
       "3        7208364 2019-01-09 04:38:41.117000+00:00   \n",
       "4        6943737 2019-01-01 05:36:39.403000+00:00   \n",
       "\n",
       "                   a_creation_date  \n",
       "0 2019-01-01 03:38:21.560000+00:00  \n",
       "1 2019-01-01 09:23:44.083000+00:00  \n",
       "2 2019-01-01 09:28:07.277000+00:00  \n",
       "3 2019-01-01 12:41:06.293000+00:00  \n",
       "4 2019-01-01 12:43:07.357000+00:00  "
      ]
     },
     "metadata": {},
     "output_type": "display_data"
    },
    {
     "data": {
      "application/javascript": [
       "parent.postMessage({\"jupyterEvent\": \"custom.exercise_interaction\", \"data\": {\"outcomeType\": 1, \"valueTowardsCompletion\": 0.25, \"interactionType\": 1, \"questionType\": 2, \"questionId\": \"2_QA_One\", \"learnToolsVersion\": \"0.3.4\", \"failureMessage\": \"\", \"exceptionClass\": \"\", \"trace\": \"\"}}, \"*\")"
      ],
      "text/plain": [
       "<IPython.core.display.Javascript object>"
      ]
     },
     "metadata": {},
     "output_type": "display_data"
    },
    {
     "data": {
      "text/markdown": [
       "<span style=\"color:#33cc33\">Correct</span>"
      ],
      "text/plain": [
       "Correct"
      ]
     },
     "metadata": {},
     "output_type": "display_data"
    }
   ],
   "source": [
    "# Your code here\n",
    "q_and_a_query = \"\"\"\n",
    "                SELECT q.owner_user_id AS owner_user_id,\n",
    "                    MIN(q.creation_date) AS q_creation_date,\n",
    "                    MIN(a.creation_date) AS a_creation_date\n",
    "                FROM `bigquery-public-data.stackoverflow.posts_questions` AS q\n",
    "                    FULL JOIN `bigquery-public-data.stackoverflow.posts_answers` AS a\n",
    "                ON q.owner_user_id = a.owner_user_id \n",
    "                WHERE q.creation_date >= '2019-01-01' AND q.creation_date < '2019-02-01' \n",
    "                    AND a.creation_date >= '2019-01-01' AND a.creation_date < '2019-02-01'\n",
    "                GROUP BY owner_user_id\n",
    "                \"\"\"\n",
    "\n",
    "# Check your answer\n",
    "q_2.check()"
   ]
  },
  {
   "cell_type": "code",
   "execution_count": 8,
   "id": "3407ca48",
   "metadata": {
    "execution": {
     "iopub.execute_input": "2022-03-29T18:49:26.446275Z",
     "iopub.status.busy": "2022-03-29T18:49:26.445602Z",
     "iopub.status.idle": "2022-03-29T18:49:26.448417Z",
     "shell.execute_reply": "2022-03-29T18:49:26.448896Z"
    },
    "papermill": {
     "duration": 0.035363,
     "end_time": "2022-03-29T18:49:26.449078",
     "exception": false,
     "start_time": "2022-03-29T18:49:26.413715",
     "status": "completed"
    },
    "tags": []
   },
   "outputs": [],
   "source": [
    "# Lines below will give you a hint or solution code\n",
    "#q_2.hint()\n",
    "#q_2.solution()"
   ]
  },
  {
   "cell_type": "markdown",
   "id": "b36fb828",
   "metadata": {
    "papermill": {
     "duration": 0.029158,
     "end_time": "2022-03-29T18:49:26.507975",
     "exception": false,
     "start_time": "2022-03-29T18:49:26.478817",
     "status": "completed"
    },
    "tags": []
   },
   "source": [
    "### 3) Initial questions and answers, Part 2\n",
    "\n",
    "Now you'll address a more realistic (and complex!) scenario.  To answer this question, you'll need to pull information from *three* different tables!  This syntax very similar to the case when we have to join only two tables.  For instance, consider the three tables below.\n",
    "\n",
    "![three tables](https://i.imgur.com/OyhYtD1.png)\n",
    "\n",
    "We can use two different **JOINs** to link together information from all three tables, in a single query.\n",
    "\n",
    "![double join](https://i.imgur.com/G6buS7P.png)\n",
    "\n",
    "With this in mind, say you're interested in understanding users who joined the site in January 2019.  You want to track their activity on the site: when did they post their first questions and answers, if ever?\n",
    "\n",
    "Write a query that returns the following columns:\n",
    "- `id` - the IDs of all users who created Stack Overflow accounts in January 2019 (January 1, 2019, to January 31, 2019, inclusive)\n",
    "- `q_creation_date` - the first time the user posted a question on the site; if the user has never posted a question, the value should be null\n",
    "- `a_creation_date` - the first time the user posted a question on the site; if the user has never posted a question, the value should be null\n",
    "\n",
    "Note that questions and answers posted after January 31, 2019, should still be included in the results.  And, all users who joined the site in January 2019 should be included (even if they have never posted a question or provided an answer).\n",
    "\n",
    "The query from the previous question should be a nice starting point to answering this question!  You'll need to use the `posts_answers` and `posts_questions` tables.  You'll also need to use the `users` table from the Stack Overflow dataset.  The relevant columns from the `users` table are `id` (the ID of each user) and `creation_date` (when the user joined the Stack Overflow site, in DATETIME format)."
   ]
  },
  {
   "cell_type": "code",
   "execution_count": 9,
   "id": "0d99c8ba",
   "metadata": {
    "execution": {
     "iopub.execute_input": "2022-03-29T18:49:26.570152Z",
     "iopub.status.busy": "2022-03-29T18:49:26.569457Z",
     "iopub.status.idle": "2022-03-29T18:49:33.269688Z",
     "shell.execute_reply": "2022-03-29T18:49:33.269030Z",
     "shell.execute_reply.started": "2022-03-29T18:47:45.080704Z"
    },
    "papermill": {
     "duration": 6.732381,
     "end_time": "2022-03-29T18:49:33.269826",
     "exception": false,
     "start_time": "2022-03-29T18:49:26.537445",
     "status": "completed"
    },
    "tags": []
   },
   "outputs": [
    {
     "name": "stderr",
     "output_type": "stream",
     "text": [
      "/opt/conda/lib/python3.7/site-packages/google/cloud/bigquery/client.py:440: UserWarning: Cannot create BigQuery Storage client, the dependency google-cloud-bigquery-storage is not installed.\n",
      "  \"Cannot create BigQuery Storage client, the dependency \"\n"
     ]
    },
    {
     "data": {
      "text/html": [
       "<div>\n",
       "<style scoped>\n",
       "    .dataframe tbody tr th:only-of-type {\n",
       "        vertical-align: middle;\n",
       "    }\n",
       "\n",
       "    .dataframe tbody tr th {\n",
       "        vertical-align: top;\n",
       "    }\n",
       "\n",
       "    .dataframe thead th {\n",
       "        text-align: right;\n",
       "    }\n",
       "</style>\n",
       "<table border=\"1\" class=\"dataframe\">\n",
       "  <thead>\n",
       "    <tr style=\"text-align: right;\">\n",
       "      <th></th>\n",
       "      <th>id</th>\n",
       "      <th>q_creation_date</th>\n",
       "      <th>a_creation_date</th>\n",
       "    </tr>\n",
       "  </thead>\n",
       "  <tbody>\n",
       "    <tr>\n",
       "      <th>0</th>\n",
       "      <td>10990142</td>\n",
       "      <td>NaT</td>\n",
       "      <td>NaT</td>\n",
       "    </tr>\n",
       "    <tr>\n",
       "      <th>1</th>\n",
       "      <td>10914315</td>\n",
       "      <td>NaT</td>\n",
       "      <td>NaT</td>\n",
       "    </tr>\n",
       "    <tr>\n",
       "      <th>2</th>\n",
       "      <td>10976505</td>\n",
       "      <td>NaT</td>\n",
       "      <td>NaT</td>\n",
       "    </tr>\n",
       "    <tr>\n",
       "      <th>3</th>\n",
       "      <td>10874745</td>\n",
       "      <td>NaT</td>\n",
       "      <td>NaT</td>\n",
       "    </tr>\n",
       "    <tr>\n",
       "      <th>4</th>\n",
       "      <td>10898266</td>\n",
       "      <td>NaT</td>\n",
       "      <td>NaT</td>\n",
       "    </tr>\n",
       "  </tbody>\n",
       "</table>\n",
       "</div>"
      ],
      "text/plain": [
       "         id q_creation_date a_creation_date\n",
       "0  10990142             NaT             NaT\n",
       "1  10914315             NaT             NaT\n",
       "2  10976505             NaT             NaT\n",
       "3  10874745             NaT             NaT\n",
       "4  10898266             NaT             NaT"
      ]
     },
     "metadata": {},
     "output_type": "display_data"
    },
    {
     "data": {
      "application/javascript": [
       "parent.postMessage({\"jupyterEvent\": \"custom.exercise_interaction\", \"data\": {\"outcomeType\": 1, \"valueTowardsCompletion\": 0.25, \"interactionType\": 1, \"questionType\": 2, \"questionId\": \"3_QA_Two\", \"learnToolsVersion\": \"0.3.4\", \"failureMessage\": \"\", \"exceptionClass\": \"\", \"trace\": \"\"}}, \"*\")"
      ],
      "text/plain": [
       "<IPython.core.display.Javascript object>"
      ]
     },
     "metadata": {},
     "output_type": "display_data"
    },
    {
     "data": {
      "text/markdown": [
       "<span style=\"color:#33cc33\">Correct</span>"
      ],
      "text/plain": [
       "Correct"
      ]
     },
     "metadata": {},
     "output_type": "display_data"
    }
   ],
   "source": [
    "# Your code here\n",
    "# table_ref = dataset_ref.table(\"users\")\n",
    "\n",
    "# # API request - fetch the table\n",
    "# table = client.get_table(table_ref)\n",
    "\n",
    "# # Preview the first five lines of the table\n",
    "# table.schema\n",
    "\n",
    "three_tables_query = \"\"\"\n",
    "                    SELECT u.id AS id,\n",
    "                    MIN(q.creation_date) AS q_creation_date,\n",
    "                    MIN(a.creation_date) AS a_creation_date\n",
    "                    FROM `bigquery-public-data.stackoverflow.users`AS u\n",
    "                    LEFT JOIN\n",
    "                    `bigquery-public-data.stackoverflow.posts_questions` AS q\n",
    "                        ON u.id = q.owner_user_id\n",
    "                    FULL JOIN `bigquery-public-data.stackoverflow.posts_answers` AS a\n",
    "                        ON q.owner_user_id = a.owner_user_id \n",
    "                    WHERE u.creation_date >= '2019-01-01' AND u.creation_date < '2019-02-01' \n",
    "                    GROUP BY id\n",
    "                    \"\"\"\n",
    "\n",
    "# Check your answer\n",
    "q_3.check()"
   ]
  },
  {
   "cell_type": "code",
   "execution_count": 10,
   "id": "1f5cb463",
   "metadata": {
    "execution": {
     "iopub.execute_input": "2022-03-29T18:49:33.338243Z",
     "iopub.status.busy": "2022-03-29T18:49:33.337576Z",
     "iopub.status.idle": "2022-03-29T18:49:33.340202Z",
     "shell.execute_reply": "2022-03-29T18:49:33.340687Z",
     "shell.execute_reply.started": "2022-03-29T18:48:23.021670Z"
    },
    "papermill": {
     "duration": 0.038057,
     "end_time": "2022-03-29T18:49:33.340854",
     "exception": false,
     "start_time": "2022-03-29T18:49:33.302797",
     "status": "completed"
    },
    "tags": []
   },
   "outputs": [],
   "source": [
    "# Lines below will give you a hint or solution code\n",
    "#q_3.hint()\n",
    "#q_3.solution()"
   ]
  },
  {
   "cell_type": "markdown",
   "id": "e8092122",
   "metadata": {
    "papermill": {
     "duration": 0.031731,
     "end_time": "2022-03-29T18:49:33.405237",
     "exception": false,
     "start_time": "2022-03-29T18:49:33.373506",
     "status": "completed"
    },
    "tags": []
   },
   "source": [
    "### 4) How many distinct users posted on January 1, 2019?\n",
    "\n",
    "In the code cell below, write a query that returns a table with a single column:\n",
    "- `owner_user_id` - the IDs of all users who posted at least one question or answer on January 1, 2019.  Each user ID should appear at most once.\n",
    "\n",
    "In the `posts_questions` (and `posts_answers`) tables, you can get the ID of the original poster from the `owner_user_id` column.  Likewise, the date of the original posting can be found in the `creation_date` column.  \n",
    "\n",
    "In order for your answer to be marked correct, your query must use a **UNION**."
   ]
  },
  {
   "cell_type": "code",
   "execution_count": 11,
   "id": "85986c61",
   "metadata": {
    "execution": {
     "iopub.execute_input": "2022-03-29T18:49:33.472439Z",
     "iopub.status.busy": "2022-03-29T18:49:33.471808Z",
     "iopub.status.idle": "2022-03-29T18:49:33.726141Z",
     "shell.execute_reply": "2022-03-29T18:49:33.726599Z"
    },
    "papermill": {
     "duration": 0.289341,
     "end_time": "2022-03-29T18:49:33.726768",
     "exception": false,
     "start_time": "2022-03-29T18:49:33.437427",
     "status": "completed"
    },
    "tags": []
   },
   "outputs": [
    {
     "data": {
      "application/javascript": [
       "parent.postMessage({\"jupyterEvent\": \"custom.exercise_interaction\", \"data\": {\"outcomeType\": 2, \"failureMessage\": \"You don't have a valid query yet.  Try again.\", \"interactionType\": 1, \"questionType\": 2, \"questionId\": \"4_AllUsers\", \"learnToolsVersion\": \"0.3.4\", \"valueTowardsCompletion\": 0.0, \"exceptionClass\": \"\", \"trace\": \"\"}}, \"*\")"
      ],
      "text/plain": [
       "<IPython.core.display.Javascript object>"
      ]
     },
     "metadata": {},
     "output_type": "display_data"
    },
    {
     "data": {
      "text/markdown": [
       "<span style=\"color:#cc3333\">Incorrect:</span> You don't have a valid query yet.  Try again."
      ],
      "text/plain": [
       "Incorrect: You don't have a valid query yet.  Try again."
      ]
     },
     "metadata": {},
     "output_type": "display_data"
    }
   ],
   "source": [
    "# Your code here\n",
    "all_users_query = \"\"\"\n",
    "                  \"\"\"\n",
    "\n",
    "# Check your answer\n",
    "q_4.check()"
   ]
  },
  {
   "cell_type": "code",
   "execution_count": 12,
   "id": "ed3d2df8",
   "metadata": {
    "execution": {
     "iopub.execute_input": "2022-03-29T18:49:33.798916Z",
     "iopub.status.busy": "2022-03-29T18:49:33.798125Z",
     "iopub.status.idle": "2022-03-29T18:49:33.800658Z",
     "shell.execute_reply": "2022-03-29T18:49:33.801149Z"
    },
    "papermill": {
     "duration": 0.040481,
     "end_time": "2022-03-29T18:49:33.801326",
     "exception": false,
     "start_time": "2022-03-29T18:49:33.760845",
     "status": "completed"
    },
    "tags": []
   },
   "outputs": [],
   "source": [
    "# Lines below will give you a hint or solution code\n",
    "#q_4.hint()\n",
    "#q_4.solution()"
   ]
  },
  {
   "cell_type": "markdown",
   "id": "45c331e7",
   "metadata": {
    "papermill": {
     "duration": 0.033046,
     "end_time": "2022-03-29T18:49:33.868372",
     "exception": false,
     "start_time": "2022-03-29T18:49:33.835326",
     "status": "completed"
    },
    "tags": []
   },
   "source": [
    "# Keep going\n",
    "\n",
    "Learn how to use **[analytic functions](https://www.kaggle.com/alexisbcook/analytic-functions)** to perform complex calculations with minimal SQL code."
   ]
  },
  {
   "cell_type": "markdown",
   "id": "7febaa25",
   "metadata": {
    "papermill": {
     "duration": 0.03299,
     "end_time": "2022-03-29T18:49:33.934579",
     "exception": false,
     "start_time": "2022-03-29T18:49:33.901589",
     "status": "completed"
    },
    "tags": []
   },
   "source": [
    "---\n",
    "\n",
    "\n",
    "\n",
    "\n",
    "*Have questions or comments? Visit the [course discussion forum](https://www.kaggle.com/learn/advanced-sql/discussion) to chat with other learners.*"
   ]
  }
 ],
 "metadata": {
  "kernelspec": {
   "display_name": "Python 3",
   "language": "python",
   "name": "python3"
  },
  "language_info": {
   "codemirror_mode": {
    "name": "ipython",
    "version": 3
   },
   "file_extension": ".py",
   "mimetype": "text/x-python",
   "name": "python",
   "nbconvert_exporter": "python",
   "pygments_lexer": "ipython3",
   "version": "3.7.12"
  },
  "papermill": {
   "default_parameters": {},
   "duration": 57.617451,
   "end_time": "2022-03-29T18:49:34.577814",
   "environment_variables": {},
   "exception": null,
   "input_path": "__notebook__.ipynb",
   "output_path": "__notebook__.ipynb",
   "parameters": {},
   "start_time": "2022-03-29T18:48:36.960363",
   "version": "2.3.3"
  }
 },
 "nbformat": 4,
 "nbformat_minor": 5
}
