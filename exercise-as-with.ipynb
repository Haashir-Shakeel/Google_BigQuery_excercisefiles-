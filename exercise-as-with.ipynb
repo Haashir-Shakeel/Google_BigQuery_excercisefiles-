{
 "cells": [
  {
   "cell_type": "markdown",
   "id": "3e3c1e2e",
   "metadata": {
    "papermill": {
     "duration": 0.019397,
     "end_time": "2022-03-19T08:18:23.383551",
     "exception": false,
     "start_time": "2022-03-19T08:18:23.364154",
     "status": "completed"
    },
    "tags": []
   },
   "source": [
    "**This notebook is an exercise in the [SQL](https://www.kaggle.com/learn/intro-to-sql) course.  You can reference the tutorial at [this link](https://www.kaggle.com/dansbecker/as-with).**\n",
    "\n",
    "---\n"
   ]
  },
  {
   "cell_type": "markdown",
   "id": "df7ab237",
   "metadata": {
    "papermill": {
     "duration": 0.017369,
     "end_time": "2022-03-19T08:18:23.418977",
     "exception": false,
     "start_time": "2022-03-19T08:18:23.401608",
     "status": "completed"
    },
    "tags": []
   },
   "source": [
    "# Introduction\n",
    "\n",
    "You are getting to the point where you can own an analysis from beginning to end. So you'll do more data exploration in this exercise than you've done before.  Before you get started, run the following set-up code as usual. "
   ]
  },
  {
   "cell_type": "code",
   "execution_count": 1,
   "id": "c9940e4a",
   "metadata": {
    "execution": {
     "iopub.execute_input": "2022-03-19T08:18:23.461473Z",
     "iopub.status.busy": "2022-03-19T08:18:23.459796Z",
     "iopub.status.idle": "2022-03-19T08:18:26.651039Z",
     "shell.execute_reply": "2022-03-19T08:18:26.651537Z",
     "shell.execute_reply.started": "2022-03-19T08:17:16.774661Z"
    },
    "papermill": {
     "duration": 3.215055,
     "end_time": "2022-03-19T08:18:26.651890",
     "exception": false,
     "start_time": "2022-03-19T08:18:23.436835",
     "status": "completed"
    },
    "tags": []
   },
   "outputs": [
    {
     "name": "stdout",
     "output_type": "stream",
     "text": [
      "Using Kaggle's public dataset BigQuery integration.\n"
     ]
    },
    {
     "name": "stderr",
     "output_type": "stream",
     "text": [
      "/opt/conda/lib/python3.7/site-packages/google/cloud/bigquery/client.py:440: UserWarning: Cannot create BigQuery Storage client, the dependency google-cloud-bigquery-storage is not installed.\n",
      "  \"Cannot create BigQuery Storage client, the dependency \"\n"
     ]
    },
    {
     "name": "stdout",
     "output_type": "stream",
     "text": [
      "Setup Complete\n"
     ]
    }
   ],
   "source": [
    "# Set up feedback system\n",
    "from learntools.core import binder\n",
    "binder.bind(globals())\n",
    "from learntools.sql.ex5 import *\n",
    "print(\"Setup Complete\")"
   ]
  },
  {
   "cell_type": "markdown",
   "id": "9c66a9ce",
   "metadata": {
    "papermill": {
     "duration": 0.018249,
     "end_time": "2022-03-19T08:18:26.689847",
     "exception": false,
     "start_time": "2022-03-19T08:18:26.671598",
     "status": "completed"
    },
    "tags": []
   },
   "source": [
    "You'll work with a dataset about taxi trips in the city of Chicago. Run the cell below to fetch the `chicago_taxi_trips` dataset."
   ]
  },
  {
   "cell_type": "code",
   "execution_count": 2,
   "id": "50e64407",
   "metadata": {
    "execution": {
     "iopub.execute_input": "2022-03-19T08:18:26.730549Z",
     "iopub.status.busy": "2022-03-19T08:18:26.729962Z",
     "iopub.status.idle": "2022-03-19T08:18:26.941725Z",
     "shell.execute_reply": "2022-03-19T08:18:26.941011Z",
     "shell.execute_reply.started": "2022-03-19T08:17:19.954866Z"
    },
    "papermill": {
     "duration": 0.233222,
     "end_time": "2022-03-19T08:18:26.941887",
     "exception": false,
     "start_time": "2022-03-19T08:18:26.708665",
     "status": "completed"
    },
    "tags": []
   },
   "outputs": [
    {
     "name": "stdout",
     "output_type": "stream",
     "text": [
      "Using Kaggle's public dataset BigQuery integration.\n"
     ]
    }
   ],
   "source": [
    "from google.cloud import bigquery\n",
    "\n",
    "# Create a \"Client\" object\n",
    "client = bigquery.Client()\n",
    "\n",
    "# Construct a reference to the \"chicago_taxi_trips\" dataset\n",
    "dataset_ref = client.dataset(\"chicago_taxi_trips\", project=\"bigquery-public-data\")\n",
    "\n",
    "# API request - fetch the dataset\n",
    "dataset = client.get_dataset(dataset_ref)"
   ]
  },
  {
   "cell_type": "markdown",
   "id": "23fd4d59",
   "metadata": {
    "papermill": {
     "duration": 0.019258,
     "end_time": "2022-03-19T08:18:26.981248",
     "exception": false,
     "start_time": "2022-03-19T08:18:26.961990",
     "status": "completed"
    },
    "tags": []
   },
   "source": [
    "# Exercises\n",
    "\n",
    "You are curious how much slower traffic moves when traffic volume is high. This involves a few steps.\n",
    "\n",
    "### 1) Find the data\n",
    "Before you can access the data, you need to find the table name with the data.\n",
    "\n",
    "*Hint*: Tab completion is helpful whenever you can't remember a command. Type `client.` and then hit the tab key. Don't forget the period before hitting tab."
   ]
  },
  {
   "cell_type": "code",
   "execution_count": 3,
   "id": "e07980f2",
   "metadata": {
    "execution": {
     "iopub.execute_input": "2022-03-19T08:18:27.028371Z",
     "iopub.status.busy": "2022-03-19T08:18:27.027692Z",
     "iopub.status.idle": "2022-03-19T08:18:27.151709Z",
     "shell.execute_reply": "2022-03-19T08:18:27.150882Z",
     "shell.execute_reply.started": "2022-03-19T08:17:27.487223Z"
    },
    "papermill": {
     "duration": 0.15057,
     "end_time": "2022-03-19T08:18:27.151939",
     "exception": false,
     "start_time": "2022-03-19T08:18:27.001369",
     "status": "completed"
    },
    "tags": []
   },
   "outputs": [
    {
     "name": "stdout",
     "output_type": "stream",
     "text": [
      "taxi_trips\n"
     ]
    }
   ],
   "source": [
    "# Your code here to find the table name\n",
    "tables= list(client.list_tables(dataset))\n",
    "for table in tables:\n",
    "    print(table.table_id)"
   ]
  },
  {
   "cell_type": "code",
   "execution_count": 4,
   "id": "43f5da88",
   "metadata": {
    "execution": {
     "iopub.execute_input": "2022-03-19T08:18:27.195307Z",
     "iopub.status.busy": "2022-03-19T08:18:27.194646Z",
     "iopub.status.idle": "2022-03-19T08:18:27.203260Z",
     "shell.execute_reply": "2022-03-19T08:18:27.203786Z",
     "shell.execute_reply.started": "2022-03-19T08:17:29.321126Z"
    },
    "papermill": {
     "duration": 0.031674,
     "end_time": "2022-03-19T08:18:27.203967",
     "exception": false,
     "start_time": "2022-03-19T08:18:27.172293",
     "status": "completed"
    },
    "tags": []
   },
   "outputs": [
    {
     "data": {
      "application/javascript": [
       "parent.postMessage({\"jupyterEvent\": \"custom.exercise_interaction\", \"data\": {\"outcomeType\": 1, \"valueTowardsCompletion\": 0.16666666666666666, \"interactionType\": 1, \"questionType\": 1, \"questionId\": \"1_GetTableName\", \"learnToolsVersion\": \"0.3.4\", \"failureMessage\": \"\", \"exceptionClass\": \"\", \"trace\": \"\"}}, \"*\")"
      ],
      "text/plain": [
       "<IPython.core.display.Javascript object>"
      ]
     },
     "metadata": {},
     "output_type": "display_data"
    },
    {
     "data": {
      "text/markdown": [
       "<span style=\"color:#33cc33\">Correct</span>"
      ],
      "text/plain": [
       "Correct"
      ]
     },
     "metadata": {},
     "output_type": "display_data"
    }
   ],
   "source": [
    "# Write the table name as a string below\n",
    "table_name = \"taxi_trips\"\n",
    "\n",
    "# Check your answer\n",
    "q_1.check()"
   ]
  },
  {
   "cell_type": "markdown",
   "id": "ec1a4760",
   "metadata": {
    "papermill": {
     "duration": 0.020123,
     "end_time": "2022-03-19T08:18:27.244608",
     "exception": false,
     "start_time": "2022-03-19T08:18:27.224485",
     "status": "completed"
    },
    "tags": []
   },
   "source": [
    "For the solution, uncomment the line below."
   ]
  },
  {
   "cell_type": "code",
   "execution_count": 5,
   "id": "15878f0f",
   "metadata": {
    "execution": {
     "iopub.execute_input": "2022-03-19T08:18:27.292587Z",
     "iopub.status.busy": "2022-03-19T08:18:27.291903Z",
     "iopub.status.idle": "2022-03-19T08:18:27.294235Z",
     "shell.execute_reply": "2022-03-19T08:18:27.294654Z",
     "shell.execute_reply.started": "2022-03-19T07:21:16.057592Z"
    },
    "papermill": {
     "duration": 0.028063,
     "end_time": "2022-03-19T08:18:27.294876",
     "exception": false,
     "start_time": "2022-03-19T08:18:27.266813",
     "status": "completed"
    },
    "tags": []
   },
   "outputs": [],
   "source": [
    "#q_1.solution()"
   ]
  },
  {
   "cell_type": "markdown",
   "id": "d93726ec",
   "metadata": {
    "papermill": {
     "duration": 0.019749,
     "end_time": "2022-03-19T08:18:27.334969",
     "exception": false,
     "start_time": "2022-03-19T08:18:27.315220",
     "status": "completed"
    },
    "tags": []
   },
   "source": [
    "### 2) Peek at the data\n",
    "\n",
    "Use the next code cell to peek at the top few rows of the data. Inspect the data and see if any issues with data quality are immediately obvious. "
   ]
  },
  {
   "cell_type": "code",
   "execution_count": 6,
   "id": "5228c9e3",
   "metadata": {
    "execution": {
     "iopub.execute_input": "2022-03-19T08:18:27.378974Z",
     "iopub.status.busy": "2022-03-19T08:18:27.378374Z",
     "iopub.status.idle": "2022-03-19T08:18:27.812100Z",
     "shell.execute_reply": "2022-03-19T08:18:27.812573Z",
     "shell.execute_reply.started": "2022-03-19T08:17:33.766813Z"
    },
    "papermill": {
     "duration": 0.457409,
     "end_time": "2022-03-19T08:18:27.812757",
     "exception": false,
     "start_time": "2022-03-19T08:18:27.355348",
     "status": "completed"
    },
    "tags": []
   },
   "outputs": [
    {
     "name": "stderr",
     "output_type": "stream",
     "text": [
      "/opt/conda/lib/python3.7/site-packages/ipykernel_launcher.py:4: UserWarning: Cannot use bqstorage_client if max_results is set, reverting to fetching data with the tabledata.list endpoint.\n",
      "  after removing the cwd from sys.path.\n"
     ]
    },
    {
     "data": {
      "text/html": [
       "<div>\n",
       "<style scoped>\n",
       "    .dataframe tbody tr th:only-of-type {\n",
       "        vertical-align: middle;\n",
       "    }\n",
       "\n",
       "    .dataframe tbody tr th {\n",
       "        vertical-align: top;\n",
       "    }\n",
       "\n",
       "    .dataframe thead th {\n",
       "        text-align: right;\n",
       "    }\n",
       "</style>\n",
       "<table border=\"1\" class=\"dataframe\">\n",
       "  <thead>\n",
       "    <tr style=\"text-align: right;\">\n",
       "      <th></th>\n",
       "      <th>unique_key</th>\n",
       "      <th>taxi_id</th>\n",
       "      <th>trip_start_timestamp</th>\n",
       "      <th>trip_end_timestamp</th>\n",
       "      <th>trip_seconds</th>\n",
       "      <th>trip_miles</th>\n",
       "      <th>pickup_census_tract</th>\n",
       "      <th>dropoff_census_tract</th>\n",
       "      <th>pickup_community_area</th>\n",
       "      <th>dropoff_community_area</th>\n",
       "      <th>...</th>\n",
       "      <th>extras</th>\n",
       "      <th>trip_total</th>\n",
       "      <th>payment_type</th>\n",
       "      <th>company</th>\n",
       "      <th>pickup_latitude</th>\n",
       "      <th>pickup_longitude</th>\n",
       "      <th>pickup_location</th>\n",
       "      <th>dropoff_latitude</th>\n",
       "      <th>dropoff_longitude</th>\n",
       "      <th>dropoff_location</th>\n",
       "    </tr>\n",
       "  </thead>\n",
       "  <tbody>\n",
       "    <tr>\n",
       "      <th>0</th>\n",
       "      <td>7f892ec7515bd913c549b6191d4f1210dab6bd48</td>\n",
       "      <td>51d13e9ec1a04be36d87a3746e0e4f8c68ca5ed59e6f7a...</td>\n",
       "      <td>2019-02-16 13:30:00+00:00</td>\n",
       "      <td>2019-02-16 14:15:00+00:00</td>\n",
       "      <td>2662</td>\n",
       "      <td>NaN</td>\n",
       "      <td>NaN</td>\n",
       "      <td>NaN</td>\n",
       "      <td>NaN</td>\n",
       "      <td>NaN</td>\n",
       "      <td>...</td>\n",
       "      <td>NaN</td>\n",
       "      <td>NaN</td>\n",
       "      <td>Credit Card</td>\n",
       "      <td>City Service</td>\n",
       "      <td>NaN</td>\n",
       "      <td>NaN</td>\n",
       "      <td>None</td>\n",
       "      <td>NaN</td>\n",
       "      <td>NaN</td>\n",
       "      <td>None</td>\n",
       "    </tr>\n",
       "    <tr>\n",
       "      <th>1</th>\n",
       "      <td>3343feb9ec86b7583eda014b283a73607a9bac0c</td>\n",
       "      <td>6b6ceb851bc1c33fcad40360a39cdd774c3269b1a13464...</td>\n",
       "      <td>2019-02-22 17:30:00+00:00</td>\n",
       "      <td>2019-02-22 17:30:00+00:00</td>\n",
       "      <td>13</td>\n",
       "      <td>0.0</td>\n",
       "      <td>NaN</td>\n",
       "      <td>NaN</td>\n",
       "      <td>NaN</td>\n",
       "      <td>NaN</td>\n",
       "      <td>...</td>\n",
       "      <td>NaN</td>\n",
       "      <td>NaN</td>\n",
       "      <td>Cash</td>\n",
       "      <td>Chicago Carriage Cab Corp</td>\n",
       "      <td>NaN</td>\n",
       "      <td>NaN</td>\n",
       "      <td>None</td>\n",
       "      <td>NaN</td>\n",
       "      <td>NaN</td>\n",
       "      <td>None</td>\n",
       "    </tr>\n",
       "    <tr>\n",
       "      <th>2</th>\n",
       "      <td>61057274be2441292e556305abfaa5c43eace54a</td>\n",
       "      <td>664a30bd4642ae849cb593c18f9bf5f3def292f714d1b2...</td>\n",
       "      <td>2019-03-01 16:30:00+00:00</td>\n",
       "      <td>2019-03-01 16:30:00+00:00</td>\n",
       "      <td>72</td>\n",
       "      <td>0.0</td>\n",
       "      <td>NaN</td>\n",
       "      <td>NaN</td>\n",
       "      <td>NaN</td>\n",
       "      <td>NaN</td>\n",
       "      <td>...</td>\n",
       "      <td>NaN</td>\n",
       "      <td>NaN</td>\n",
       "      <td>Credit Card</td>\n",
       "      <td>City Service</td>\n",
       "      <td>NaN</td>\n",
       "      <td>NaN</td>\n",
       "      <td>None</td>\n",
       "      <td>NaN</td>\n",
       "      <td>NaN</td>\n",
       "      <td>None</td>\n",
       "    </tr>\n",
       "    <tr>\n",
       "      <th>3</th>\n",
       "      <td>f2e00f30b9575fc6e1eb18dded32b7ee3add2f56</td>\n",
       "      <td>664a30bd4642ae849cb593c18f9bf5f3def292f714d1b2...</td>\n",
       "      <td>2019-03-01 16:45:00+00:00</td>\n",
       "      <td>2019-03-01 16:45:00+00:00</td>\n",
       "      <td>31</td>\n",
       "      <td>0.0</td>\n",
       "      <td>NaN</td>\n",
       "      <td>NaN</td>\n",
       "      <td>NaN</td>\n",
       "      <td>NaN</td>\n",
       "      <td>...</td>\n",
       "      <td>NaN</td>\n",
       "      <td>NaN</td>\n",
       "      <td>Cash</td>\n",
       "      <td>City Service</td>\n",
       "      <td>NaN</td>\n",
       "      <td>NaN</td>\n",
       "      <td>None</td>\n",
       "      <td>NaN</td>\n",
       "      <td>NaN</td>\n",
       "      <td>None</td>\n",
       "    </tr>\n",
       "    <tr>\n",
       "      <th>4</th>\n",
       "      <td>4f027f16e2fba80ddf7504b4b1a19c1dc0a6113c</td>\n",
       "      <td>664a30bd4642ae849cb593c18f9bf5f3def292f714d1b2...</td>\n",
       "      <td>2019-03-01 16:45:00+00:00</td>\n",
       "      <td>2019-03-01 16:45:00+00:00</td>\n",
       "      <td>137</td>\n",
       "      <td>0.0</td>\n",
       "      <td>NaN</td>\n",
       "      <td>NaN</td>\n",
       "      <td>NaN</td>\n",
       "      <td>NaN</td>\n",
       "      <td>...</td>\n",
       "      <td>NaN</td>\n",
       "      <td>NaN</td>\n",
       "      <td>Cash</td>\n",
       "      <td>City Service</td>\n",
       "      <td>NaN</td>\n",
       "      <td>NaN</td>\n",
       "      <td>None</td>\n",
       "      <td>NaN</td>\n",
       "      <td>NaN</td>\n",
       "      <td>None</td>\n",
       "    </tr>\n",
       "  </tbody>\n",
       "</table>\n",
       "<p>5 rows × 23 columns</p>\n",
       "</div>"
      ],
      "text/plain": [
       "                                 unique_key  \\\n",
       "0  7f892ec7515bd913c549b6191d4f1210dab6bd48   \n",
       "1  3343feb9ec86b7583eda014b283a73607a9bac0c   \n",
       "2  61057274be2441292e556305abfaa5c43eace54a   \n",
       "3  f2e00f30b9575fc6e1eb18dded32b7ee3add2f56   \n",
       "4  4f027f16e2fba80ddf7504b4b1a19c1dc0a6113c   \n",
       "\n",
       "                                             taxi_id  \\\n",
       "0  51d13e9ec1a04be36d87a3746e0e4f8c68ca5ed59e6f7a...   \n",
       "1  6b6ceb851bc1c33fcad40360a39cdd774c3269b1a13464...   \n",
       "2  664a30bd4642ae849cb593c18f9bf5f3def292f714d1b2...   \n",
       "3  664a30bd4642ae849cb593c18f9bf5f3def292f714d1b2...   \n",
       "4  664a30bd4642ae849cb593c18f9bf5f3def292f714d1b2...   \n",
       "\n",
       "       trip_start_timestamp        trip_end_timestamp  trip_seconds  \\\n",
       "0 2019-02-16 13:30:00+00:00 2019-02-16 14:15:00+00:00          2662   \n",
       "1 2019-02-22 17:30:00+00:00 2019-02-22 17:30:00+00:00            13   \n",
       "2 2019-03-01 16:30:00+00:00 2019-03-01 16:30:00+00:00            72   \n",
       "3 2019-03-01 16:45:00+00:00 2019-03-01 16:45:00+00:00            31   \n",
       "4 2019-03-01 16:45:00+00:00 2019-03-01 16:45:00+00:00           137   \n",
       "\n",
       "   trip_miles  pickup_census_tract  dropoff_census_tract  \\\n",
       "0         NaN                  NaN                   NaN   \n",
       "1         0.0                  NaN                   NaN   \n",
       "2         0.0                  NaN                   NaN   \n",
       "3         0.0                  NaN                   NaN   \n",
       "4         0.0                  NaN                   NaN   \n",
       "\n",
       "   pickup_community_area  dropoff_community_area  ...  extras  trip_total  \\\n",
       "0                    NaN                     NaN  ...     NaN         NaN   \n",
       "1                    NaN                     NaN  ...     NaN         NaN   \n",
       "2                    NaN                     NaN  ...     NaN         NaN   \n",
       "3                    NaN                     NaN  ...     NaN         NaN   \n",
       "4                    NaN                     NaN  ...     NaN         NaN   \n",
       "\n",
       "   payment_type                    company  pickup_latitude pickup_longitude  \\\n",
       "0   Credit Card               City Service              NaN              NaN   \n",
       "1          Cash  Chicago Carriage Cab Corp              NaN              NaN   \n",
       "2   Credit Card               City Service              NaN              NaN   \n",
       "3          Cash               City Service              NaN              NaN   \n",
       "4          Cash               City Service              NaN              NaN   \n",
       "\n",
       "  pickup_location  dropoff_latitude  dropoff_longitude dropoff_location  \n",
       "0            None               NaN                NaN             None  \n",
       "1            None               NaN                NaN             None  \n",
       "2            None               NaN                NaN             None  \n",
       "3            None               NaN                NaN             None  \n",
       "4            None               NaN                NaN             None  \n",
       "\n",
       "[5 rows x 23 columns]"
      ]
     },
     "execution_count": 6,
     "metadata": {},
     "output_type": "execute_result"
    }
   ],
   "source": [
    "# Your code here\n",
    "table_ref  = dataset_ref.table(\"taxi_trips\")\n",
    "table = client.get_table(table_ref)\n",
    "client.list_rows(table,max_results=5).to_dataframe()\n"
   ]
  },
  {
   "cell_type": "markdown",
   "id": "8931a9c3",
   "metadata": {
    "papermill": {
     "duration": 0.0206,
     "end_time": "2022-03-19T08:18:27.854549",
     "exception": false,
     "start_time": "2022-03-19T08:18:27.833949",
     "status": "completed"
    },
    "tags": []
   },
   "source": [
    "After deciding whether you see any important issues, run the code cell below."
   ]
  },
  {
   "cell_type": "code",
   "execution_count": 7,
   "id": "b6841b05",
   "metadata": {
    "execution": {
     "iopub.execute_input": "2022-03-19T08:18:27.902050Z",
     "iopub.status.busy": "2022-03-19T08:18:27.901421Z",
     "iopub.status.idle": "2022-03-19T08:18:27.907466Z",
     "shell.execute_reply": "2022-03-19T08:18:27.907931Z",
     "shell.execute_reply.started": "2022-03-19T08:17:40.294320Z"
    },
    "papermill": {
     "duration": 0.032342,
     "end_time": "2022-03-19T08:18:27.908136",
     "exception": false,
     "start_time": "2022-03-19T08:18:27.875794",
     "status": "completed"
    },
    "tags": []
   },
   "outputs": [
    {
     "data": {
      "application/javascript": [
       "parent.postMessage({\"jupyterEvent\": \"custom.exercise_interaction\", \"data\": {\"interactionType\": 3, \"questionType\": 4, \"questionId\": \"2_WhatsWrongWithData\", \"learnToolsVersion\": \"0.3.4\", \"valueTowardsCompletion\": 0.0, \"failureMessage\": \"\", \"exceptionClass\": \"\", \"trace\": \"\", \"outcomeType\": 4}}, \"*\")"
      ],
      "text/plain": [
       "<IPython.core.display.Javascript object>"
      ]
     },
     "metadata": {},
     "output_type": "display_data"
    },
    {
     "data": {
      "text/markdown": [
       "<span style=\"color:#33cc99\">Solution:</span> \n",
       "You can see the data by calling: \n",
       "```python\n",
       "# Construct a reference to the \"taxi_trips\" table\n",
       "table_ref = dataset_ref.table(\"taxi_trips\")\n",
       "\n",
       "# API request - fetch the table\n",
       "table = client.get_table(table_ref)\n",
       "\n",
       "# Preview the first five lines of the \"taxi_trips\" table\n",
       "client.list_rows(table, max_results=5).to_dataframe()\n",
       "```\n",
       "\n",
       "Some trips in the top few rows have `trip_seconds` or `trip_miles` values of 0. \n",
       "Other location fields have values of `None`. That is a problem if we want to use those fields.\n"
      ],
      "text/plain": [
       "Solution: \n",
       "You can see the data by calling: \n",
       "```python\n",
       "# Construct a reference to the \"taxi_trips\" table\n",
       "table_ref = dataset_ref.table(\"taxi_trips\")\n",
       "\n",
       "# API request - fetch the table\n",
       "table = client.get_table(table_ref)\n",
       "\n",
       "# Preview the first five lines of the \"taxi_trips\" table\n",
       "client.list_rows(table, max_results=5).to_dataframe()\n",
       "```\n",
       "\n",
       "Some trips in the top few rows have `trip_seconds` or `trip_miles` values of 0. \n",
       "Other location fields have values of `None`. That is a problem if we want to use those fields."
      ]
     },
     "metadata": {},
     "output_type": "display_data"
    }
   ],
   "source": [
    "# Check your answer (Run this code cell to receive credit!)\n",
    "q_2.solution()"
   ]
  },
  {
   "cell_type": "markdown",
   "id": "1db68d87",
   "metadata": {
    "papermill": {
     "duration": 0.02247,
     "end_time": "2022-03-19T08:18:27.953141",
     "exception": false,
     "start_time": "2022-03-19T08:18:27.930671",
     "status": "completed"
    },
    "tags": []
   },
   "source": [
    "### 3) Determine when this data is from\n",
    "\n",
    "If the data is sufficiently old, we might be careful before assuming the data is still relevant to traffic patterns today. Write a query that counts the number of trips in each year.  \n",
    "\n",
    "Your results should have two columns:\n",
    "- `year` - the year of the trips\n",
    "- `num_trips` - the number of trips in that year\n",
    "\n",
    "Hints:\n",
    "- When using **GROUP BY** and **ORDER BY**, you should refer to the columns by the alias `year` that you set at the top of the **SELECT** query.\n",
    "- The SQL code to **SELECT** the year from `trip_start_timestamp` is <code>SELECT EXTRACT(YEAR FROM trip_start_timestamp)</code>\n",
    "- The **FROM** field can be a little tricky until you are used to it.  The format is:\n",
    "    1. A backick (the symbol \\`).\n",
    "    2. The project name. In this case it is `bigquery-public-data`.\n",
    "    3. A period.\n",
    "    4. The dataset name. In this case, it is `chicago_taxi_trips`.\n",
    "    5. A period.\n",
    "    6. The table name. You used this as your answer in **1) Find the data**.\n",
    "    7. A backtick (the symbol \\`)."
   ]
  },
  {
   "cell_type": "code",
   "execution_count": 8,
   "id": "f4cf89cf",
   "metadata": {
    "execution": {
     "iopub.execute_input": "2022-03-19T08:18:28.001794Z",
     "iopub.status.busy": "2022-03-19T08:18:28.001147Z",
     "iopub.status.idle": "2022-03-19T08:18:28.703003Z",
     "shell.execute_reply": "2022-03-19T08:18:28.703477Z",
     "shell.execute_reply.started": "2022-03-19T08:17:44.407907Z"
    },
    "papermill": {
     "duration": 0.727939,
     "end_time": "2022-03-19T08:18:28.703669",
     "exception": false,
     "start_time": "2022-03-19T08:18:27.975730",
     "status": "completed"
    },
    "tags": []
   },
   "outputs": [
    {
     "name": "stderr",
     "output_type": "stream",
     "text": [
      "/opt/conda/lib/python3.7/site-packages/google/cloud/bigquery/client.py:440: UserWarning: Cannot create BigQuery Storage client, the dependency google-cloud-bigquery-storage is not installed.\n",
      "  \"Cannot create BigQuery Storage client, the dependency \"\n"
     ]
    },
    {
     "name": "stdout",
     "output_type": "stream",
     "text": [
      "   year  num_trips\n",
      "0  2013   27217716\n",
      "1  2014   37395436\n",
      "2  2015   32385875\n",
      "3  2016   31759339\n",
      "4  2017   24988003\n",
      "5  2018   20732088\n",
      "6  2019   16477365\n",
      "7  2020    3889032\n",
      "8  2021    3948045\n",
      "9  2022     672738\n"
     ]
    },
    {
     "data": {
      "application/javascript": [
       "parent.postMessage({\"jupyterEvent\": \"custom.exercise_interaction\", \"data\": {\"outcomeType\": 1, \"valueTowardsCompletion\": 0.16666666666666666, \"interactionType\": 1, \"questionType\": 2, \"questionId\": \"3_YearDistrib\", \"learnToolsVersion\": \"0.3.4\", \"failureMessage\": \"\", \"exceptionClass\": \"\", \"trace\": \"\"}}, \"*\")"
      ],
      "text/plain": [
       "<IPython.core.display.Javascript object>"
      ]
     },
     "metadata": {},
     "output_type": "display_data"
    },
    {
     "data": {
      "text/markdown": [
       "<span style=\"color:#33cc33\">Correct</span>"
      ],
      "text/plain": [
       "Correct"
      ]
     },
     "metadata": {},
     "output_type": "display_data"
    }
   ],
   "source": [
    "# Your code goes here\n",
    "rides_per_year_query = \"\"\"\n",
    "                        SELECT EXTRACT(YEAR FROM trip_start_timestamp) AS year,COUNT(1) AS num_trips\n",
    "                        FROM `bigquery-public-data.chicago_taxi_trips.taxi_trips`\n",
    "                        GROUP BY year\n",
    "                        ORDER BY year\n",
    "                        \"\"\"\n",
    "\n",
    "# Set up the query (cancel the query if it would use too much of \n",
    "# your quota)\n",
    "safe_config = bigquery.QueryJobConfig(maximum_bytes_billed=10**10)\n",
    "rides_per_year_query_job = client.query(rides_per_year_query,job_config=safe_config) # Your code goes here\n",
    "\n",
    "# API request - run the query, and return a pandas DataFrame\n",
    "rides_per_year_result = rides_per_year_query_job.to_dataframe() # Your code goes here\n",
    "\n",
    "# View results\n",
    "print(rides_per_year_result)\n",
    "\n",
    "# Check your answer\n",
    "q_3.check()"
   ]
  },
  {
   "cell_type": "markdown",
   "id": "d4891347",
   "metadata": {
    "papermill": {
     "duration": 0.023194,
     "end_time": "2022-03-19T08:18:28.750754",
     "exception": false,
     "start_time": "2022-03-19T08:18:28.727560",
     "status": "completed"
    },
    "tags": []
   },
   "source": [
    "For a hint or the solution, uncomment the appropriate line below."
   ]
  },
  {
   "cell_type": "code",
   "execution_count": 9,
   "id": "24da6d05",
   "metadata": {
    "execution": {
     "iopub.execute_input": "2022-03-19T08:18:28.803978Z",
     "iopub.status.busy": "2022-03-19T08:18:28.803131Z",
     "iopub.status.idle": "2022-03-19T08:18:28.805422Z",
     "shell.execute_reply": "2022-03-19T08:18:28.804991Z",
     "shell.execute_reply.started": "2022-03-19T07:39:10.154134Z"
    },
    "papermill": {
     "duration": 0.031328,
     "end_time": "2022-03-19T08:18:28.805576",
     "exception": false,
     "start_time": "2022-03-19T08:18:28.774248",
     "status": "completed"
    },
    "tags": []
   },
   "outputs": [],
   "source": [
    "#q_3.hint()\n",
    "#q_3.solution()"
   ]
  },
  {
   "cell_type": "markdown",
   "id": "618a03f7",
   "metadata": {
    "papermill": {
     "duration": 0.023398,
     "end_time": "2022-03-19T08:18:28.852716",
     "exception": false,
     "start_time": "2022-03-19T08:18:28.829318",
     "status": "completed"
    },
    "tags": []
   },
   "source": [
    "### 4) Dive slightly deeper\n",
    "\n",
    "You'd like to take a closer look at rides from 2017.  Copy the query you used above in `rides_per_year_query` into the cell below for `rides_per_month_query`.  Then modify it in two ways:\n",
    "1. Use a **WHERE** clause to limit the query to data from 2017.\n",
    "2. Modify the query to extract the month rather than the year."
   ]
  },
  {
   "cell_type": "code",
   "execution_count": 10,
   "id": "804ec93d",
   "metadata": {
    "execution": {
     "iopub.execute_input": "2022-03-19T08:18:28.908280Z",
     "iopub.status.busy": "2022-03-19T08:18:28.903468Z",
     "iopub.status.idle": "2022-03-19T08:18:30.150570Z",
     "shell.execute_reply": "2022-03-19T08:18:30.149840Z",
     "shell.execute_reply.started": "2022-03-19T08:17:50.322292Z"
    },
    "papermill": {
     "duration": 1.274152,
     "end_time": "2022-03-19T08:18:30.150768",
     "exception": false,
     "start_time": "2022-03-19T08:18:28.876616",
     "status": "completed"
    },
    "tags": []
   },
   "outputs": [
    {
     "name": "stderr",
     "output_type": "stream",
     "text": [
      "/opt/conda/lib/python3.7/site-packages/google/cloud/bigquery/client.py:440: UserWarning: Cannot create BigQuery Storage client, the dependency google-cloud-bigquery-storage is not installed.\n",
      "  \"Cannot create BigQuery Storage client, the dependency \"\n"
     ]
    },
    {
     "name": "stdout",
     "output_type": "stream",
     "text": [
      "    month  num_trips\n",
      "0       1    1972071\n",
      "1       2    1909802\n",
      "2       3    2362105\n",
      "3       4    2194702\n",
      "4       5    2323386\n",
      "5       6    2324472\n",
      "6       7    2054299\n",
      "7       8    2079861\n",
      "8       9    1950631\n",
      "9      10    2141197\n",
      "10     11    1907997\n",
      "11     12    1767480\n"
     ]
    },
    {
     "data": {
      "application/javascript": [
       "parent.postMessage({\"jupyterEvent\": \"custom.exercise_interaction\", \"data\": {\"outcomeType\": 1, \"valueTowardsCompletion\": 0.16666666666666666, \"interactionType\": 1, \"questionType\": 2, \"questionId\": \"4_MonthDistrib\", \"learnToolsVersion\": \"0.3.4\", \"failureMessage\": \"\", \"exceptionClass\": \"\", \"trace\": \"\"}}, \"*\")"
      ],
      "text/plain": [
       "<IPython.core.display.Javascript object>"
      ]
     },
     "metadata": {},
     "output_type": "display_data"
    },
    {
     "data": {
      "text/markdown": [
       "<span style=\"color:#33cc33\">Correct</span>"
      ],
      "text/plain": [
       "Correct"
      ]
     },
     "metadata": {},
     "output_type": "display_data"
    }
   ],
   "source": [
    "# Your code goes here\n",
    "rides_per_month_query = \"\"\"\n",
    "                        SELECT EXTRACT(MONTH FROM trip_start_timestamp) AS month,COUNT(1) AS num_trips\n",
    "                        FROM `bigquery-public-data.chicago_taxi_trips.taxi_trips`\n",
    "                        WHERE EXTRACT(YEAR FROM trip_start_timestamp) = 2017\n",
    "                        GROUP BY month\n",
    "                        ORDER BY month\n",
    "                        \"\"\" \n",
    "\n",
    "# Set up the query\n",
    "safe_config = bigquery.QueryJobConfig(maximum_bytes_billed=10**10)\n",
    "rides_per_month_query_job = client.query(rides_per_month_query,job_config=safe_config) # Your code goes here\n",
    "\n",
    "# API request - run the query, and return a pandas DataFrame\n",
    "rides_per_month_result = rides_per_month_query_job.to_dataframe() # Your code goes here\n",
    "\n",
    "# View results\n",
    "print(rides_per_month_result)\n",
    "\n",
    "# Check your answer\n",
    "q_4.check()"
   ]
  },
  {
   "cell_type": "markdown",
   "id": "1ee99e12",
   "metadata": {
    "papermill": {
     "duration": 0.024763,
     "end_time": "2022-03-19T08:18:30.201609",
     "exception": false,
     "start_time": "2022-03-19T08:18:30.176846",
     "status": "completed"
    },
    "tags": []
   },
   "source": [
    "For a hint or the solution, uncomment the appropriate line below."
   ]
  },
  {
   "cell_type": "code",
   "execution_count": 11,
   "id": "11c4da09",
   "metadata": {
    "execution": {
     "iopub.execute_input": "2022-03-19T08:18:30.256979Z",
     "iopub.status.busy": "2022-03-19T08:18:30.256302Z",
     "iopub.status.idle": "2022-03-19T08:18:30.259022Z",
     "shell.execute_reply": "2022-03-19T08:18:30.258470Z",
     "shell.execute_reply.started": "2022-03-19T07:44:16.509405Z"
    },
    "papermill": {
     "duration": 0.032102,
     "end_time": "2022-03-19T08:18:30.259178",
     "exception": false,
     "start_time": "2022-03-19T08:18:30.227076",
     "status": "completed"
    },
    "tags": []
   },
   "outputs": [],
   "source": [
    "#q_4.hint()\n",
    "#q_4.solution()"
   ]
  },
  {
   "cell_type": "markdown",
   "id": "b9459401",
   "metadata": {
    "papermill": {
     "duration": 0.025311,
     "end_time": "2022-03-19T08:18:30.310259",
     "exception": false,
     "start_time": "2022-03-19T08:18:30.284948",
     "status": "completed"
    },
    "tags": []
   },
   "source": [
    "### 5) Write the query\n",
    "\n",
    "It's time to step up the sophistication of your queries.  Write a query that shows, for each hour of the day in the dataset, the corresponding number of trips and average speed.\n",
    "\n",
    "Your results should have three columns:\n",
    "- `hour_of_day` - sort by this column, which holds the result of extracting the hour from `trip_start_timestamp`.\n",
    "- `num_trips` - the count of the total number of trips in each hour of the day (e.g. how many trips were started between 6AM and 7AM, independent of which day it occurred on).\n",
    "- `avg_mph` - the average speed, measured in miles per hour, for trips that started in that hour of the day.  Average speed in miles per hour is calculated as `3600 * SUM(trip_miles) / SUM(trip_seconds)`. (The value 3600 is used to convert from seconds to hours.)\n",
    "\n",
    "Restrict your query to data meeting the following criteria:\n",
    "- a `trip_start_timestamp` between **2017-01-01** and **2017-07-01**\n",
    "- `trip_seconds` > 0 and `trip_miles` > 0\n",
    "\n",
    "You will use a common table expression (CTE) to select just the relevant rides.  Because this dataset is very big, this CTE should select only the columns you'll need to create the final output (though you won't actually create those in the CTE -- instead you'll create those in the later **SELECT** statement below the CTE).\n",
    "\n",
    "This is a much harder query than anything you've written so far.  Good luck!"
   ]
  },
  {
   "cell_type": "code",
   "execution_count": 12,
   "id": "c15fe925",
   "metadata": {
    "execution": {
     "iopub.execute_input": "2022-03-19T08:18:30.369877Z",
     "iopub.status.busy": "2022-03-19T08:18:30.367348Z",
     "iopub.status.idle": "2022-03-19T08:18:31.139559Z",
     "shell.execute_reply": "2022-03-19T08:18:31.140021Z",
     "shell.execute_reply.started": "2022-03-19T08:17:55.695029Z"
    },
    "papermill": {
     "duration": 0.804604,
     "end_time": "2022-03-19T08:18:31.140224",
     "exception": false,
     "start_time": "2022-03-19T08:18:30.335620",
     "status": "completed"
    },
    "tags": []
   },
   "outputs": [
    {
     "name": "stderr",
     "output_type": "stream",
     "text": [
      "/opt/conda/lib/python3.7/site-packages/google/cloud/bigquery/client.py:440: UserWarning: Cannot create BigQuery Storage client, the dependency google-cloud-bigquery-storage is not installed.\n",
      "  \"Cannot create BigQuery Storage client, the dependency \"\n"
     ]
    },
    {
     "name": "stdout",
     "output_type": "stream",
     "text": [
      "    hour_of_day  num_trips    avg_mph\n",
      "0             0     319339  20.230524\n",
      "1             1     266529  18.937621\n",
      "2             2     210147  18.777070\n",
      "3             3     159668  20.158048\n",
      "4             4     122183  26.736014\n",
      "5             5     119312  30.769172\n",
      "6             6     182738  24.588313\n",
      "7             7     358406  17.735967\n",
      "8             8     541775  15.079892\n",
      "9             9     565548  16.543882\n",
      "10           10     525120  18.539614\n",
      "11           11     594603  18.928379\n",
      "12           12     622324  17.838745\n",
      "13           13     630181  17.671089\n",
      "14           14     622465  16.974239\n",
      "15           15     640430  15.688418\n",
      "16           16     701435  14.283888\n",
      "17           17     756627  12.462955\n",
      "18           18     768251  13.646810\n",
      "19           19     701064  16.642882\n",
      "20           20     598614  19.536777\n",
      "21           21     552726  20.433874\n",
      "22           22     501095  19.531374\n",
      "23           23     399587  19.877046\n"
     ]
    },
    {
     "data": {
      "application/javascript": [
       "parent.postMessage({\"jupyterEvent\": \"custom.exercise_interaction\", \"data\": {\"outcomeType\": 1, \"valueTowardsCompletion\": 0.16666666666666666, \"interactionType\": 1, \"questionType\": 2, \"questionId\": \"5_TheLongQuery\", \"learnToolsVersion\": \"0.3.4\", \"failureMessage\": \"\", \"exceptionClass\": \"\", \"trace\": \"\"}}, \"*\")"
      ],
      "text/plain": [
       "<IPython.core.display.Javascript object>"
      ]
     },
     "metadata": {},
     "output_type": "display_data"
    },
    {
     "data": {
      "text/markdown": [
       "<span style=\"color:#33cc33\">Correct</span>"
      ],
      "text/plain": [
       "Correct"
      ]
     },
     "metadata": {},
     "output_type": "display_data"
    }
   ],
   "source": [
    "# Your code goes here\n",
    "speeds_query = \"\"\"\n",
    "               WITH RelevantRides AS\n",
    "               (\n",
    "                   SELECT EXTRACT(HOUR FROM trip_start_timestamp) AS hour_of_day, \n",
    "                   trip_seconds,\n",
    "                   trip_miles\n",
    "                   FROM `bigquery-public-data.chicago_taxi_trips.taxi_trips`\n",
    "                   WHERE trip_start_timestamp > '2017-01-01'\n",
    "                   AND trip_start_timestamp < '2017-07-01'\n",
    "                   AND trip_seconds >0 \n",
    "                   AND trip_miles >0\n",
    "               )\n",
    "               SELECT hour_of_day,\n",
    "               COUNT(1) AS num_trips,\n",
    "               3600 * SUM(trip_miles) / SUM(trip_seconds) AS avg_mph\n",
    "               FROM RelevantRides\n",
    "               GROUP BY hour_of_day\n",
    "               ORDER BY hour_of_day\n",
    "               \"\"\"\n",
    "\n",
    "# Set up the query\n",
    "safe_config = bigquery.QueryJobConfig(maximum_bytes_billed=10**10)\n",
    "speeds_query_job = client.query(speeds_query,job_config=safe_config) # Your code here\n",
    "\n",
    "# API request - run the query, and return a pandas DataFrame\n",
    "speeds_result = speeds_query_job.to_dataframe() # Your code here\n",
    "\n",
    "# View results\n",
    "print(speeds_result)\n",
    "\n",
    "# Check your answer\n",
    "q_5.check()"
   ]
  },
  {
   "cell_type": "markdown",
   "id": "009624ba",
   "metadata": {
    "papermill": {
     "duration": 0.026779,
     "end_time": "2022-03-19T08:18:31.194146",
     "exception": false,
     "start_time": "2022-03-19T08:18:31.167367",
     "status": "completed"
    },
    "tags": []
   },
   "source": [
    "For the solution, uncomment the appropriate line below."
   ]
  },
  {
   "cell_type": "code",
   "execution_count": 13,
   "id": "e8a35c30",
   "metadata": {
    "execution": {
     "iopub.execute_input": "2022-03-19T08:18:31.254105Z",
     "iopub.status.busy": "2022-03-19T08:18:31.253114Z",
     "iopub.status.idle": "2022-03-19T08:18:31.255391Z",
     "shell.execute_reply": "2022-03-19T08:18:31.255837Z",
     "shell.execute_reply.started": "2022-03-19T08:00:14.921912Z"
    },
    "papermill": {
     "duration": 0.034818,
     "end_time": "2022-03-19T08:18:31.256030",
     "exception": false,
     "start_time": "2022-03-19T08:18:31.221212",
     "status": "completed"
    },
    "tags": []
   },
   "outputs": [],
   "source": [
    "#q_5.solution()"
   ]
  },
  {
   "cell_type": "markdown",
   "id": "c4d89395",
   "metadata": {
    "papermill": {
     "duration": 0.026512,
     "end_time": "2022-03-19T08:18:31.309801",
     "exception": false,
     "start_time": "2022-03-19T08:18:31.283289",
     "status": "completed"
    },
    "tags": []
   },
   "source": [
    "That's a hard query. If you made good progress towards the solution, congratulations!"
   ]
  },
  {
   "cell_type": "markdown",
   "id": "b3272dea",
   "metadata": {
    "papermill": {
     "duration": 0.026691,
     "end_time": "2022-03-19T08:18:31.363309",
     "exception": false,
     "start_time": "2022-03-19T08:18:31.336618",
     "status": "completed"
    },
    "tags": []
   },
   "source": [
    "# Keep going\n",
    "\n",
    "You can write very complex queries now with a single data source. But nothing expands the horizons of SQL as much as the ability to combine or **JOIN** tables.\n",
    "\n",
    "**[Click here](https://www.kaggle.com/dansbecker/joining-data)** to start the last lesson in the Intro to SQL micro-course."
   ]
  },
  {
   "cell_type": "markdown",
   "id": "b8b751b6",
   "metadata": {
    "papermill": {
     "duration": 0.026819,
     "end_time": "2022-03-19T08:18:31.417000",
     "exception": false,
     "start_time": "2022-03-19T08:18:31.390181",
     "status": "completed"
    },
    "tags": []
   },
   "source": [
    "---\n",
    "\n",
    "\n",
    "\n",
    "\n",
    "*Have questions or comments? Visit the [course discussion forum](https://www.kaggle.com/learn/intro-to-sql/discussion) to chat with other learners.*"
   ]
  }
 ],
 "metadata": {
  "kernelspec": {
   "display_name": "Python 3",
   "language": "python",
   "name": "python3"
  },
  "language_info": {
   "codemirror_mode": {
    "name": "ipython",
    "version": 3
   },
   "file_extension": ".py",
   "mimetype": "text/x-python",
   "name": "python",
   "nbconvert_exporter": "python",
   "pygments_lexer": "ipython3",
   "version": "3.7.12"
  },
  "papermill": {
   "default_parameters": {},
   "duration": 17.896142,
   "end_time": "2022-03-19T08:18:32.357866",
   "environment_variables": {},
   "exception": null,
   "input_path": "__notebook__.ipynb",
   "output_path": "__notebook__.ipynb",
   "parameters": {},
   "start_time": "2022-03-19T08:18:14.461724",
   "version": "2.3.3"
  }
 },
 "nbformat": 4,
 "nbformat_minor": 5
}
