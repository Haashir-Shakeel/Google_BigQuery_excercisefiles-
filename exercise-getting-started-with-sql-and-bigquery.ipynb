{
 "cells": [
  {
   "cell_type": "markdown",
   "id": "2a8d90d9",
   "metadata": {
    "papermill": {
     "duration": 0.015499,
     "end_time": "2022-03-14T23:41:36.613347",
     "exception": false,
     "start_time": "2022-03-14T23:41:36.597848",
     "status": "completed"
    },
    "tags": []
   },
   "source": [
    "**This notebook is an exercise in the [SQL](https://www.kaggle.com/learn/intro-to-sql) course.  You can reference the tutorial at [this link](https://www.kaggle.com/dansbecker/getting-started-with-sql-and-bigquery).**\n",
    "\n",
    "---\n"
   ]
  },
  {
   "cell_type": "markdown",
   "id": "b1268ba6",
   "metadata": {
    "papermill": {
     "duration": 0.01418,
     "end_time": "2022-03-14T23:41:36.642284",
     "exception": false,
     "start_time": "2022-03-14T23:41:36.628104",
     "status": "completed"
    },
    "tags": []
   },
   "source": [
    "# Introduction\n",
    "\n",
    "The first test of your new data exploration skills uses data describing crime in the city of Chicago.\n",
    "\n",
    "Before you get started, run the following cell. It sets up the automated feedback system to review your answers."
   ]
  },
  {
   "cell_type": "code",
   "execution_count": 1,
   "id": "9999bdbf",
   "metadata": {
    "execution": {
     "iopub.execute_input": "2022-03-14T23:41:36.681890Z",
     "iopub.status.busy": "2022-03-14T23:41:36.680226Z",
     "iopub.status.idle": "2022-03-14T23:41:37.705412Z",
     "shell.execute_reply": "2022-03-14T23:41:37.705883Z",
     "shell.execute_reply.started": "2022-03-14T23:28:10.100499Z"
    },
    "papermill": {
     "duration": 1.049582,
     "end_time": "2022-03-14T23:41:37.706193",
     "exception": false,
     "start_time": "2022-03-14T23:41:36.656611",
     "status": "completed"
    },
    "tags": []
   },
   "outputs": [
    {
     "name": "stdout",
     "output_type": "stream",
     "text": [
      "Using Kaggle's public dataset BigQuery integration.\n",
      "Setup Complete\n"
     ]
    }
   ],
   "source": [
    "# Set up feedack system\n",
    "from learntools.core import binder\n",
    "binder.bind(globals())\n",
    "from learntools.sql.ex1 import *\n",
    "print(\"Setup Complete\")"
   ]
  },
  {
   "cell_type": "markdown",
   "id": "1d41ff9d",
   "metadata": {
    "papermill": {
     "duration": 0.020702,
     "end_time": "2022-03-14T23:41:37.754882",
     "exception": false,
     "start_time": "2022-03-14T23:41:37.734180",
     "status": "completed"
    },
    "tags": []
   },
   "source": [
    "Use the next code cell to fetch the dataset."
   ]
  },
  {
   "cell_type": "code",
   "execution_count": 2,
   "id": "5f2944df",
   "metadata": {
    "execution": {
     "iopub.execute_input": "2022-03-14T23:41:37.796918Z",
     "iopub.status.busy": "2022-03-14T23:41:37.796285Z",
     "iopub.status.idle": "2022-03-14T23:41:38.088644Z",
     "shell.execute_reply": "2022-03-14T23:41:38.088087Z",
     "shell.execute_reply.started": "2022-03-14T23:28:13.677339Z"
    },
    "papermill": {
     "duration": 0.313699,
     "end_time": "2022-03-14T23:41:38.088788",
     "exception": false,
     "start_time": "2022-03-14T23:41:37.775089",
     "status": "completed"
    },
    "tags": []
   },
   "outputs": [
    {
     "name": "stdout",
     "output_type": "stream",
     "text": [
      "Using Kaggle's public dataset BigQuery integration.\n"
     ]
    }
   ],
   "source": [
    "from google.cloud import bigquery\n",
    "\n",
    "# Create a \"Client\" object\n",
    "client = bigquery.Client()\n",
    "\n",
    "# Construct a reference to the \"chicago_crime\" dataset\n",
    "dataset_ref = client.dataset(\"chicago_crime\", project=\"bigquery-public-data\")\n",
    "\n",
    "# API request - fetch the dataset\n",
    "dataset = client.get_dataset(dataset_ref)"
   ]
  },
  {
   "cell_type": "markdown",
   "id": "9ac50553",
   "metadata": {
    "papermill": {
     "duration": 0.016754,
     "end_time": "2022-03-14T23:41:38.122237",
     "exception": false,
     "start_time": "2022-03-14T23:41:38.105483",
     "status": "completed"
    },
    "tags": []
   },
   "source": [
    "# Exercises\n",
    "\n",
    "### 1) Count tables in the dataset\n",
    "\n",
    "How many tables are in the Chicago Crime dataset?"
   ]
  },
  {
   "cell_type": "code",
   "execution_count": 3,
   "id": "e0405428",
   "metadata": {
    "execution": {
     "iopub.execute_input": "2022-03-14T23:41:38.158121Z",
     "iopub.status.busy": "2022-03-14T23:41:38.157385Z",
     "iopub.status.idle": "2022-03-14T23:41:38.471201Z",
     "shell.execute_reply": "2022-03-14T23:41:38.471657Z",
     "shell.execute_reply.started": "2022-03-14T23:29:09.734259Z"
    },
    "papermill": {
     "duration": 0.333458,
     "end_time": "2022-03-14T23:41:38.471821",
     "exception": false,
     "start_time": "2022-03-14T23:41:38.138363",
     "status": "completed"
    },
    "tags": []
   },
   "outputs": [
    {
     "name": "stdout",
     "output_type": "stream",
     "text": [
      "1\n",
      "crime\n"
     ]
    }
   ],
   "source": [
    "# Write the code you need here to figure out the answer\n",
    "tables = list(client.list_tables(dataset))\n",
    "print(len(tables))\n",
    "\n",
    "for table in tables:\n",
    "    print(table.table_id)"
   ]
  },
  {
   "cell_type": "code",
   "execution_count": 4,
   "id": "bc180df3",
   "metadata": {
    "execution": {
     "iopub.execute_input": "2022-03-14T23:41:38.508866Z",
     "iopub.status.busy": "2022-03-14T23:41:38.508198Z",
     "iopub.status.idle": "2022-03-14T23:41:38.517321Z",
     "shell.execute_reply": "2022-03-14T23:41:38.517804Z",
     "shell.execute_reply.started": "2022-03-14T23:30:25.778693Z"
    },
    "papermill": {
     "duration": 0.029589,
     "end_time": "2022-03-14T23:41:38.517978",
     "exception": false,
     "start_time": "2022-03-14T23:41:38.488389",
     "status": "completed"
    },
    "tags": []
   },
   "outputs": [
    {
     "data": {
      "application/javascript": [
       "parent.postMessage({\"jupyterEvent\": \"custom.exercise_interaction\", \"data\": {\"outcomeType\": 1, \"valueTowardsCompletion\": 0.3333333333333333, \"interactionType\": 1, \"questionType\": 1, \"questionId\": \"1_CountTables\", \"learnToolsVersion\": \"0.3.4\", \"failureMessage\": \"\", \"exceptionClass\": \"\", \"trace\": \"\"}}, \"*\")"
      ],
      "text/plain": [
       "<IPython.core.display.Javascript object>"
      ]
     },
     "metadata": {},
     "output_type": "display_data"
    },
    {
     "data": {
      "text/markdown": [
       "<span style=\"color:#33cc33\">Correct</span>"
      ],
      "text/plain": [
       "Correct"
      ]
     },
     "metadata": {},
     "output_type": "display_data"
    }
   ],
   "source": [
    "num_tables = len(tables)  # Store the answer as num_tables and then run this cell\n",
    "\n",
    "# Check your answer\n",
    "q_1.check()"
   ]
  },
  {
   "cell_type": "markdown",
   "id": "1392684b",
   "metadata": {
    "papermill": {
     "duration": 0.019586,
     "end_time": "2022-03-14T23:41:38.557567",
     "exception": false,
     "start_time": "2022-03-14T23:41:38.537981",
     "status": "completed"
    },
    "tags": []
   },
   "source": [
    "For a hint or the solution, uncomment the appropriate line below."
   ]
  },
  {
   "cell_type": "code",
   "execution_count": 5,
   "id": "87747b4a",
   "metadata": {
    "execution": {
     "iopub.execute_input": "2022-03-14T23:41:38.594453Z",
     "iopub.status.busy": "2022-03-14T23:41:38.593734Z",
     "iopub.status.idle": "2022-03-14T23:41:38.596114Z",
     "shell.execute_reply": "2022-03-14T23:41:38.596647Z"
    },
    "papermill": {
     "duration": 0.022586,
     "end_time": "2022-03-14T23:41:38.596866",
     "exception": false,
     "start_time": "2022-03-14T23:41:38.574280",
     "status": "completed"
    },
    "tags": []
   },
   "outputs": [],
   "source": [
    "#q_1.hint()\n",
    "#q_1.solution()"
   ]
  },
  {
   "cell_type": "markdown",
   "id": "e2436f8a",
   "metadata": {
    "papermill": {
     "duration": 0.016401,
     "end_time": "2022-03-14T23:41:38.630824",
     "exception": false,
     "start_time": "2022-03-14T23:41:38.614423",
     "status": "completed"
    },
    "tags": []
   },
   "source": [
    "### 2) Explore the table schema\n",
    "\n",
    "How many columns in the `crime` table have `TIMESTAMP` data?"
   ]
  },
  {
   "cell_type": "code",
   "execution_count": 6,
   "id": "0eb09aee",
   "metadata": {
    "execution": {
     "iopub.execute_input": "2022-03-14T23:41:38.668592Z",
     "iopub.status.busy": "2022-03-14T23:41:38.667910Z",
     "iopub.status.idle": "2022-03-14T23:41:38.883675Z",
     "shell.execute_reply": "2022-03-14T23:41:38.883013Z",
     "shell.execute_reply.started": "2022-03-14T23:34:09.876553Z"
    },
    "papermill": {
     "duration": 0.235748,
     "end_time": "2022-03-14T23:41:38.883845",
     "exception": false,
     "start_time": "2022-03-14T23:41:38.648097",
     "status": "completed"
    },
    "tags": []
   },
   "outputs": [
    {
     "data": {
      "text/plain": [
       "[SchemaField('unique_key', 'INTEGER', 'REQUIRED', None, (), None),\n",
       " SchemaField('case_number', 'STRING', 'NULLABLE', None, (), None),\n",
       " SchemaField('date', 'TIMESTAMP', 'NULLABLE', None, (), None),\n",
       " SchemaField('block', 'STRING', 'NULLABLE', None, (), None),\n",
       " SchemaField('iucr', 'STRING', 'NULLABLE', None, (), None),\n",
       " SchemaField('primary_type', 'STRING', 'NULLABLE', None, (), None),\n",
       " SchemaField('description', 'STRING', 'NULLABLE', None, (), None),\n",
       " SchemaField('location_description', 'STRING', 'NULLABLE', None, (), None),\n",
       " SchemaField('arrest', 'BOOLEAN', 'NULLABLE', None, (), None),\n",
       " SchemaField('domestic', 'BOOLEAN', 'NULLABLE', None, (), None),\n",
       " SchemaField('beat', 'INTEGER', 'NULLABLE', None, (), None),\n",
       " SchemaField('district', 'INTEGER', 'NULLABLE', None, (), None),\n",
       " SchemaField('ward', 'INTEGER', 'NULLABLE', None, (), None),\n",
       " SchemaField('community_area', 'INTEGER', 'NULLABLE', None, (), None),\n",
       " SchemaField('fbi_code', 'STRING', 'NULLABLE', None, (), None),\n",
       " SchemaField('x_coordinate', 'FLOAT', 'NULLABLE', None, (), None),\n",
       " SchemaField('y_coordinate', 'FLOAT', 'NULLABLE', None, (), None),\n",
       " SchemaField('year', 'INTEGER', 'NULLABLE', None, (), None),\n",
       " SchemaField('updated_on', 'TIMESTAMP', 'NULLABLE', None, (), None),\n",
       " SchemaField('latitude', 'FLOAT', 'NULLABLE', None, (), None),\n",
       " SchemaField('longitude', 'FLOAT', 'NULLABLE', None, (), None),\n",
       " SchemaField('location', 'STRING', 'NULLABLE', None, (), None)]"
      ]
     },
     "execution_count": 6,
     "metadata": {},
     "output_type": "execute_result"
    }
   ],
   "source": [
    "# Write the code to figure out the answer\n",
    "table_ref = dataset_ref.table(\"crime\")\n",
    "table = client.get_table(table_ref)\n",
    "table.schema"
   ]
  },
  {
   "cell_type": "code",
   "execution_count": 7,
   "id": "71ca64d6",
   "metadata": {
    "execution": {
     "iopub.execute_input": "2022-03-14T23:41:38.924441Z",
     "iopub.status.busy": "2022-03-14T23:41:38.923508Z",
     "iopub.status.idle": "2022-03-14T23:41:38.930260Z",
     "shell.execute_reply": "2022-03-14T23:41:38.930789Z",
     "shell.execute_reply.started": "2022-03-14T23:35:27.560459Z"
    },
    "papermill": {
     "duration": 0.028437,
     "end_time": "2022-03-14T23:41:38.931013",
     "exception": false,
     "start_time": "2022-03-14T23:41:38.902576",
     "status": "completed"
    },
    "tags": []
   },
   "outputs": [
    {
     "data": {
      "application/javascript": [
       "parent.postMessage({\"jupyterEvent\": \"custom.exercise_interaction\", \"data\": {\"outcomeType\": 1, \"valueTowardsCompletion\": 0.3333333333333333, \"interactionType\": 1, \"questionType\": 1, \"questionId\": \"2_CountTimestampFields\", \"learnToolsVersion\": \"0.3.4\", \"failureMessage\": \"\", \"exceptionClass\": \"\", \"trace\": \"\"}}, \"*\")"
      ],
      "text/plain": [
       "<IPython.core.display.Javascript object>"
      ]
     },
     "metadata": {},
     "output_type": "display_data"
    },
    {
     "data": {
      "text/markdown": [
       "<span style=\"color:#33cc33\">Correct</span>"
      ],
      "text/plain": [
       "Correct"
      ]
     },
     "metadata": {},
     "output_type": "display_data"
    }
   ],
   "source": [
    "num_timestamp_fields = 2 # Put your answer here\n",
    "\n",
    "# Check your answer\n",
    "q_2.check()"
   ]
  },
  {
   "cell_type": "markdown",
   "id": "b39cff80",
   "metadata": {
    "papermill": {
     "duration": 0.020083,
     "end_time": "2022-03-14T23:41:38.971515",
     "exception": false,
     "start_time": "2022-03-14T23:41:38.951432",
     "status": "completed"
    },
    "tags": []
   },
   "source": [
    "For a hint or the solution, uncomment the appropriate line below."
   ]
  },
  {
   "cell_type": "code",
   "execution_count": 8,
   "id": "4a6634cd",
   "metadata": {
    "execution": {
     "iopub.execute_input": "2022-03-14T23:41:39.016076Z",
     "iopub.status.busy": "2022-03-14T23:41:39.015023Z",
     "iopub.status.idle": "2022-03-14T23:41:39.025456Z",
     "shell.execute_reply": "2022-03-14T23:41:39.025892Z",
     "shell.execute_reply.started": "2022-03-14T23:35:36.404077Z"
    },
    "papermill": {
     "duration": 0.034337,
     "end_time": "2022-03-14T23:41:39.026087",
     "exception": false,
     "start_time": "2022-03-14T23:41:38.991750",
     "status": "completed"
    },
    "tags": []
   },
   "outputs": [
    {
     "data": {
      "application/javascript": [
       "parent.postMessage({\"jupyterEvent\": \"custom.exercise_interaction\", \"data\": {\"interactionType\": 2, \"questionType\": 1, \"questionId\": \"2_CountTimestampFields\", \"learnToolsVersion\": \"0.3.4\", \"valueTowardsCompletion\": 0.0, \"failureMessage\": \"\", \"exceptionClass\": \"\", \"trace\": \"\", \"outcomeType\": 4}}, \"*\")"
      ],
      "text/plain": [
       "<IPython.core.display.Javascript object>"
      ]
     },
     "metadata": {},
     "output_type": "display_data"
    },
    {
     "data": {
      "text/markdown": [
       "<span style=\"color:#3366cc\">Hint:</span> Begin by fetching the `crime` table. Then take a look at the table schema, and check the field type of each column.  How many times does `'TIMESTAMP'` appear?"
      ],
      "text/plain": [
       "Hint: Begin by fetching the `crime` table. Then take a look at the table schema, and check the field type of each column.  How many times does `'TIMESTAMP'` appear?"
      ]
     },
     "metadata": {},
     "output_type": "display_data"
    },
    {
     "data": {
      "application/javascript": [
       "parent.postMessage({\"jupyterEvent\": \"custom.exercise_interaction\", \"data\": {\"interactionType\": 3, \"questionType\": 1, \"questionId\": \"2_CountTimestampFields\", \"learnToolsVersion\": \"0.3.4\", \"valueTowardsCompletion\": 0.0, \"failureMessage\": \"\", \"exceptionClass\": \"\", \"trace\": \"\", \"outcomeType\": 4}}, \"*\")"
      ],
      "text/plain": [
       "<IPython.core.display.Javascript object>"
      ]
     },
     "metadata": {},
     "output_type": "display_data"
    },
    {
     "data": {
      "text/markdown": [
       "<span style=\"color:#33cc99\">Solution:</span> \n",
       "```python\n",
       "\n",
       "# Construct a reference to the \"crime\" table\n",
       "table_ref = dataset_ref.table(\"crime\")\n",
       "\n",
       "# API request - fetch the table\n",
       "table = client.get_table(table_ref)\n",
       "\n",
       "# Print information on all the columns in the \"crime\" table in the \"chicago_crime\" dataset\n",
       "print(table.schema)\n",
       "\n",
       "num_timestamp_fields = 2\n",
       "\n",
       "```"
      ],
      "text/plain": [
       "Solution: \n",
       "```python\n",
       "\n",
       "# Construct a reference to the \"crime\" table\n",
       "table_ref = dataset_ref.table(\"crime\")\n",
       "\n",
       "# API request - fetch the table\n",
       "table = client.get_table(table_ref)\n",
       "\n",
       "# Print information on all the columns in the \"crime\" table in the \"chicago_crime\" dataset\n",
       "print(table.schema)\n",
       "\n",
       "num_timestamp_fields = 2\n",
       "\n",
       "```"
      ]
     },
     "metadata": {},
     "output_type": "display_data"
    }
   ],
   "source": [
    "q_2.hint()\n",
    "q_2.solution()"
   ]
  },
  {
   "cell_type": "markdown",
   "id": "f589cd9a",
   "metadata": {
    "papermill": {
     "duration": 0.021177,
     "end_time": "2022-03-14T23:41:39.067004",
     "exception": false,
     "start_time": "2022-03-14T23:41:39.045827",
     "status": "completed"
    },
    "tags": []
   },
   "source": [
    "### 3) Create a crime map\n",
    "\n",
    "If you wanted to create a map with a dot at the location of each crime, what are the names of the two fields you likely need to pull out of the `crime` table to plot the crimes on a map?"
   ]
  },
  {
   "cell_type": "code",
   "execution_count": 9,
   "id": "3343a00a",
   "metadata": {
    "execution": {
     "iopub.execute_input": "2022-03-14T23:41:39.112931Z",
     "iopub.status.busy": "2022-03-14T23:41:39.111972Z",
     "iopub.status.idle": "2022-03-14T23:41:39.115687Z",
     "shell.execute_reply": "2022-03-14T23:41:39.116267Z"
    },
    "papermill": {
     "duration": 0.028616,
     "end_time": "2022-03-14T23:41:39.116448",
     "exception": false,
     "start_time": "2022-03-14T23:41:39.087832",
     "status": "completed"
    },
    "tags": []
   },
   "outputs": [],
   "source": [
    "# Write the code here to explore the data so you can find the answer"
   ]
  },
  {
   "cell_type": "code",
   "execution_count": 10,
   "id": "9ec7a6c2",
   "metadata": {
    "execution": {
     "iopub.execute_input": "2022-03-14T23:41:39.162549Z",
     "iopub.status.busy": "2022-03-14T23:41:39.161636Z",
     "iopub.status.idle": "2022-03-14T23:41:39.168888Z",
     "shell.execute_reply": "2022-03-14T23:41:39.169433Z",
     "shell.execute_reply.started": "2022-03-14T23:37:38.418322Z"
    },
    "papermill": {
     "duration": 0.032048,
     "end_time": "2022-03-14T23:41:39.169608",
     "exception": false,
     "start_time": "2022-03-14T23:41:39.137560",
     "status": "completed"
    },
    "tags": []
   },
   "outputs": [
    {
     "data": {
      "application/javascript": [
       "parent.postMessage({\"jupyterEvent\": \"custom.exercise_interaction\", \"data\": {\"outcomeType\": 1, \"valueTowardsCompletion\": 0.3333333333333333, \"interactionType\": 1, \"questionType\": 2, \"questionId\": \"3_IdentifyFieldsForPlotting\", \"learnToolsVersion\": \"0.3.4\", \"failureMessage\": \"\", \"exceptionClass\": \"\", \"trace\": \"\"}}, \"*\")"
      ],
      "text/plain": [
       "<IPython.core.display.Javascript object>"
      ]
     },
     "metadata": {},
     "output_type": "display_data"
    },
    {
     "data": {
      "text/markdown": [
       "<span style=\"color:#33cc33\">Correct</span>"
      ],
      "text/plain": [
       "Correct"
      ]
     },
     "metadata": {},
     "output_type": "display_data"
    }
   ],
   "source": [
    "fields_for_plotting = ['latitude', 'longitude'] # Put your answers here\n",
    "\n",
    "# Check your answer\n",
    "q_3.check()"
   ]
  },
  {
   "cell_type": "markdown",
   "id": "442934df",
   "metadata": {
    "papermill": {
     "duration": 0.021374,
     "end_time": "2022-03-14T23:41:39.212745",
     "exception": false,
     "start_time": "2022-03-14T23:41:39.191371",
     "status": "completed"
    },
    "tags": []
   },
   "source": [
    "For a hint or the solution, uncomment the appropriate line below."
   ]
  },
  {
   "cell_type": "code",
   "execution_count": 11,
   "id": "18773794",
   "metadata": {
    "execution": {
     "iopub.execute_input": "2022-03-14T23:41:39.260358Z",
     "iopub.status.busy": "2022-03-14T23:41:39.259662Z",
     "iopub.status.idle": "2022-03-14T23:41:39.267337Z",
     "shell.execute_reply": "2022-03-14T23:41:39.268105Z",
     "shell.execute_reply.started": "2022-03-14T23:37:43.123654Z"
    },
    "papermill": {
     "duration": 0.033132,
     "end_time": "2022-03-14T23:41:39.268277",
     "exception": false,
     "start_time": "2022-03-14T23:41:39.235145",
     "status": "completed"
    },
    "tags": []
   },
   "outputs": [
    {
     "data": {
      "application/javascript": [
       "parent.postMessage({\"jupyterEvent\": \"custom.exercise_interaction\", \"data\": {\"interactionType\": 2, \"questionType\": 2, \"questionId\": \"3_IdentifyFieldsForPlotting\", \"learnToolsVersion\": \"0.3.4\", \"valueTowardsCompletion\": 0.0, \"failureMessage\": \"\", \"exceptionClass\": \"\", \"trace\": \"\", \"outcomeType\": 4}}, \"*\")"
      ],
      "text/plain": [
       "<IPython.core.display.Javascript object>"
      ]
     },
     "metadata": {},
     "output_type": "display_data"
    },
    {
     "data": {
      "text/markdown": [
       "<span style=\"color:#3366cc\">Hint:</span> Look at the table schema.  There are a couple options, but two of the fields are things commonly used to plot on maps. Both are `'FLOAT'` types. Use quotes around the field names in your answer."
      ],
      "text/plain": [
       "Hint: Look at the table schema.  There are a couple options, but two of the fields are things commonly used to plot on maps. Both are `'FLOAT'` types. Use quotes around the field names in your answer."
      ]
     },
     "metadata": {},
     "output_type": "display_data"
    },
    {
     "data": {
      "application/javascript": [
       "parent.postMessage({\"jupyterEvent\": \"custom.exercise_interaction\", \"data\": {\"interactionType\": 3, \"questionType\": 2, \"questionId\": \"3_IdentifyFieldsForPlotting\", \"learnToolsVersion\": \"0.3.4\", \"valueTowardsCompletion\": 0.0, \"failureMessage\": \"\", \"exceptionClass\": \"\", \"trace\": \"\", \"outcomeType\": 4}}, \"*\")"
      ],
      "text/plain": [
       "<IPython.core.display.Javascript object>"
      ]
     },
     "metadata": {},
     "output_type": "display_data"
    },
    {
     "data": {
      "text/markdown": [
       "<span style=\"color:#33cc99\">Solution:</span> \n",
       "```python\n",
       "fields_for_plotting = ['latitude', 'longitude']\n",
       "```"
      ],
      "text/plain": [
       "Solution: \n",
       "```python\n",
       "fields_for_plotting = ['latitude', 'longitude']\n",
       "```"
      ]
     },
     "metadata": {},
     "output_type": "display_data"
    }
   ],
   "source": [
    "q_3.hint()\n",
    "q_3.solution()"
   ]
  },
  {
   "cell_type": "markdown",
   "id": "cf6db619",
   "metadata": {
    "papermill": {
     "duration": 0.022511,
     "end_time": "2022-03-14T23:41:39.314596",
     "exception": false,
     "start_time": "2022-03-14T23:41:39.292085",
     "status": "completed"
    },
    "tags": []
   },
   "source": [
    "Thinking about the question above, there are a few columns that appear to have geographic data. Look at a few values (with the `list_rows()` command) to see if you can determine their relationship.  Two columns will still be hard to interpret. But it should be obvious how the `location` column relates to `latitude` and `longitude`."
   ]
  },
  {
   "cell_type": "code",
   "execution_count": 12,
   "id": "05ead98c",
   "metadata": {
    "execution": {
     "iopub.execute_input": "2022-03-14T23:41:39.365230Z",
     "iopub.status.busy": "2022-03-14T23:41:39.364495Z",
     "iopub.status.idle": "2022-03-14T23:41:40.038698Z",
     "shell.execute_reply": "2022-03-14T23:41:40.039271Z",
     "shell.execute_reply.started": "2022-03-14T23:39:08.117791Z"
    },
    "papermill": {
     "duration": 0.70129,
     "end_time": "2022-03-14T23:41:40.039446",
     "exception": false,
     "start_time": "2022-03-14T23:41:39.338156",
     "status": "completed"
    },
    "tags": []
   },
   "outputs": [
    {
     "name": "stderr",
     "output_type": "stream",
     "text": [
      "/opt/conda/lib/python3.7/site-packages/ipykernel_launcher.py:2: UserWarning: Cannot use bqstorage_client if max_results is set, reverting to fetching data with the tabledata.list endpoint.\n",
      "  \n"
     ]
    },
    {
     "data": {
      "text/html": [
       "<div>\n",
       "<style scoped>\n",
       "    .dataframe tbody tr th:only-of-type {\n",
       "        vertical-align: middle;\n",
       "    }\n",
       "\n",
       "    .dataframe tbody tr th {\n",
       "        vertical-align: top;\n",
       "    }\n",
       "\n",
       "    .dataframe thead th {\n",
       "        text-align: right;\n",
       "    }\n",
       "</style>\n",
       "<table border=\"1\" class=\"dataframe\">\n",
       "  <thead>\n",
       "    <tr style=\"text-align: right;\">\n",
       "      <th></th>\n",
       "      <th>unique_key</th>\n",
       "      <th>case_number</th>\n",
       "      <th>date</th>\n",
       "      <th>block</th>\n",
       "      <th>iucr</th>\n",
       "      <th>primary_type</th>\n",
       "      <th>description</th>\n",
       "      <th>location_description</th>\n",
       "      <th>arrest</th>\n",
       "      <th>domestic</th>\n",
       "      <th>...</th>\n",
       "      <th>ward</th>\n",
       "      <th>community_area</th>\n",
       "      <th>fbi_code</th>\n",
       "      <th>x_coordinate</th>\n",
       "      <th>y_coordinate</th>\n",
       "      <th>year</th>\n",
       "      <th>updated_on</th>\n",
       "      <th>latitude</th>\n",
       "      <th>longitude</th>\n",
       "      <th>location</th>\n",
       "    </tr>\n",
       "  </thead>\n",
       "  <tbody>\n",
       "    <tr>\n",
       "      <th>0</th>\n",
       "      <td>9306932</td>\n",
       "      <td>HW451105</td>\n",
       "      <td>2013-09-14 01:35:00+00:00</td>\n",
       "      <td>085XX S SOUTH CHICAGO AVE</td>\n",
       "      <td>0470</td>\n",
       "      <td>PUBLIC PEACE VIOLATION</td>\n",
       "      <td>RECKLESS CONDUCT</td>\n",
       "      <td>ABANDONED BUILDING</td>\n",
       "      <td>True</td>\n",
       "      <td>False</td>\n",
       "      <td>...</td>\n",
       "      <td>8</td>\n",
       "      <td>45</td>\n",
       "      <td>24</td>\n",
       "      <td>1193056.0</td>\n",
       "      <td>1848424.0</td>\n",
       "      <td>2013</td>\n",
       "      <td>2018-02-10 03:50:01+00:00</td>\n",
       "      <td>41.739036</td>\n",
       "      <td>-87.568256</td>\n",
       "      <td>(41.739035982, -87.568255999)</td>\n",
       "    </tr>\n",
       "    <tr>\n",
       "      <th>1</th>\n",
       "      <td>9317137</td>\n",
       "      <td>HW460938</td>\n",
       "      <td>2013-09-17 12:01:00+00:00</td>\n",
       "      <td>107XX S ALBANY AVE</td>\n",
       "      <td>1152</td>\n",
       "      <td>DECEPTIVE PRACTICE</td>\n",
       "      <td>ILLEGAL USE CASH CARD</td>\n",
       "      <td>RESIDENCE</td>\n",
       "      <td>False</td>\n",
       "      <td>False</td>\n",
       "      <td>...</td>\n",
       "      <td>19</td>\n",
       "      <td>74</td>\n",
       "      <td>11</td>\n",
       "      <td>1157565.0</td>\n",
       "      <td>1833196.0</td>\n",
       "      <td>2013</td>\n",
       "      <td>2018-02-10 03:50:01+00:00</td>\n",
       "      <td>41.698040</td>\n",
       "      <td>-87.698700</td>\n",
       "      <td>(41.698039951, -87.698699883)</td>\n",
       "    </tr>\n",
       "    <tr>\n",
       "      <th>2</th>\n",
       "      <td>9329438</td>\n",
       "      <td>HW473331</td>\n",
       "      <td>2013-09-28 12:44:00+00:00</td>\n",
       "      <td>070XX W 59TH ST</td>\n",
       "      <td>1345</td>\n",
       "      <td>CRIMINAL DAMAGE</td>\n",
       "      <td>TO CITY OF CHICAGO PROPERTY</td>\n",
       "      <td>PARK PROPERTY</td>\n",
       "      <td>False</td>\n",
       "      <td>False</td>\n",
       "      <td>...</td>\n",
       "      <td>23</td>\n",
       "      <td>64</td>\n",
       "      <td>14</td>\n",
       "      <td>1130659.0</td>\n",
       "      <td>1864618.0</td>\n",
       "      <td>2013</td>\n",
       "      <td>2018-02-10 03:50:01+00:00</td>\n",
       "      <td>41.784770</td>\n",
       "      <td>-87.796500</td>\n",
       "      <td>(41.784770393, -87.796500235)</td>\n",
       "    </tr>\n",
       "    <tr>\n",
       "      <th>3</th>\n",
       "      <td>9380057</td>\n",
       "      <td>HW523050</td>\n",
       "      <td>2013-11-06 11:55:00+00:00</td>\n",
       "      <td>049XX S ARCHER AVE</td>\n",
       "      <td>1345</td>\n",
       "      <td>CRIMINAL DAMAGE</td>\n",
       "      <td>TO CITY OF CHICAGO PROPERTY</td>\n",
       "      <td>SCHOOL, PUBLIC, BUILDING</td>\n",
       "      <td>False</td>\n",
       "      <td>False</td>\n",
       "      <td>...</td>\n",
       "      <td>14</td>\n",
       "      <td>57</td>\n",
       "      <td>14</td>\n",
       "      <td>1150934.0</td>\n",
       "      <td>1871470.0</td>\n",
       "      <td>2013</td>\n",
       "      <td>2018-02-10 03:50:01+00:00</td>\n",
       "      <td>41.803202</td>\n",
       "      <td>-87.721984</td>\n",
       "      <td>(41.803201891, -87.72198373)</td>\n",
       "    </tr>\n",
       "    <tr>\n",
       "      <th>4</th>\n",
       "      <td>9501643</td>\n",
       "      <td>HX156655</td>\n",
       "      <td>2014-02-18 03:00:00+00:00</td>\n",
       "      <td>063XX W HYACINTH ST</td>\n",
       "      <td>2093</td>\n",
       "      <td>NARCOTICS</td>\n",
       "      <td>FOUND SUSPECT NARCOTICS</td>\n",
       "      <td>RESIDENCE PORCH/HALLWAY</td>\n",
       "      <td>True</td>\n",
       "      <td>False</td>\n",
       "      <td>...</td>\n",
       "      <td>45</td>\n",
       "      <td>10</td>\n",
       "      <td>26</td>\n",
       "      <td>1133179.0</td>\n",
       "      <td>1940192.0</td>\n",
       "      <td>2014</td>\n",
       "      <td>2016-02-04 06:33:39+00:00</td>\n",
       "      <td>41.992112</td>\n",
       "      <td>-87.785492</td>\n",
       "      <td>(41.992112221, -87.785491586)</td>\n",
       "    </tr>\n",
       "  </tbody>\n",
       "</table>\n",
       "<p>5 rows × 22 columns</p>\n",
       "</div>"
      ],
      "text/plain": [
       "   unique_key case_number                      date  \\\n",
       "0     9306932    HW451105 2013-09-14 01:35:00+00:00   \n",
       "1     9317137    HW460938 2013-09-17 12:01:00+00:00   \n",
       "2     9329438    HW473331 2013-09-28 12:44:00+00:00   \n",
       "3     9380057    HW523050 2013-11-06 11:55:00+00:00   \n",
       "4     9501643    HX156655 2014-02-18 03:00:00+00:00   \n",
       "\n",
       "                       block  iucr            primary_type  \\\n",
       "0  085XX S SOUTH CHICAGO AVE  0470  PUBLIC PEACE VIOLATION   \n",
       "1         107XX S ALBANY AVE  1152      DECEPTIVE PRACTICE   \n",
       "2            070XX W 59TH ST  1345         CRIMINAL DAMAGE   \n",
       "3         049XX S ARCHER AVE  1345         CRIMINAL DAMAGE   \n",
       "4        063XX W HYACINTH ST  2093               NARCOTICS   \n",
       "\n",
       "                   description      location_description  arrest  domestic  \\\n",
       "0             RECKLESS CONDUCT        ABANDONED BUILDING    True     False   \n",
       "1        ILLEGAL USE CASH CARD                 RESIDENCE   False     False   \n",
       "2  TO CITY OF CHICAGO PROPERTY             PARK PROPERTY   False     False   \n",
       "3  TO CITY OF CHICAGO PROPERTY  SCHOOL, PUBLIC, BUILDING   False     False   \n",
       "4      FOUND SUSPECT NARCOTICS   RESIDENCE PORCH/HALLWAY    True     False   \n",
       "\n",
       "   ...  ward  community_area  fbi_code  x_coordinate y_coordinate  year  \\\n",
       "0  ...     8              45        24     1193056.0    1848424.0  2013   \n",
       "1  ...    19              74        11     1157565.0    1833196.0  2013   \n",
       "2  ...    23              64        14     1130659.0    1864618.0  2013   \n",
       "3  ...    14              57        14     1150934.0    1871470.0  2013   \n",
       "4  ...    45              10        26     1133179.0    1940192.0  2014   \n",
       "\n",
       "                 updated_on   latitude  longitude  \\\n",
       "0 2018-02-10 03:50:01+00:00  41.739036 -87.568256   \n",
       "1 2018-02-10 03:50:01+00:00  41.698040 -87.698700   \n",
       "2 2018-02-10 03:50:01+00:00  41.784770 -87.796500   \n",
       "3 2018-02-10 03:50:01+00:00  41.803202 -87.721984   \n",
       "4 2016-02-04 06:33:39+00:00  41.992112 -87.785492   \n",
       "\n",
       "                        location  \n",
       "0  (41.739035982, -87.568255999)  \n",
       "1  (41.698039951, -87.698699883)  \n",
       "2  (41.784770393, -87.796500235)  \n",
       "3   (41.803201891, -87.72198373)  \n",
       "4  (41.992112221, -87.785491586)  \n",
       "\n",
       "[5 rows x 22 columns]"
      ]
     },
     "execution_count": 12,
     "metadata": {},
     "output_type": "execute_result"
    }
   ],
   "source": [
    "# Scratch space for your code\n",
    "client.list_rows(table, max_results=5).to_dataframe()"
   ]
  },
  {
   "cell_type": "markdown",
   "id": "721f1abe",
   "metadata": {
    "papermill": {
     "duration": 0.023212,
     "end_time": "2022-03-14T23:41:40.086401",
     "exception": false,
     "start_time": "2022-03-14T23:41:40.063189",
     "status": "completed"
    },
    "tags": []
   },
   "source": [
    "# Keep going\n",
    "\n",
    "You've looked at the schema, but you haven't yet done anything exciting with the data itself. Things get more interesting when you get to the data, so keep going to **[write your first SQL query](https://www.kaggle.com/dansbecker/select-from-where).**"
   ]
  },
  {
   "cell_type": "markdown",
   "id": "acfe3eb4",
   "metadata": {
    "papermill": {
     "duration": 0.023206,
     "end_time": "2022-03-14T23:41:40.133681",
     "exception": false,
     "start_time": "2022-03-14T23:41:40.110475",
     "status": "completed"
    },
    "tags": []
   },
   "source": [
    "---\n",
    "\n",
    "\n",
    "\n",
    "\n",
    "*Have questions or comments? Visit the [course discussion forum](https://www.kaggle.com/learn/intro-to-sql/discussion) to chat with other learners.*"
   ]
  }
 ],
 "metadata": {
  "kernelspec": {
   "display_name": "Python 3",
   "language": "python",
   "name": "python3"
  },
  "language_info": {
   "codemirror_mode": {
    "name": "ipython",
    "version": 3
   },
   "file_extension": ".py",
   "mimetype": "text/x-python",
   "name": "python",
   "nbconvert_exporter": "python",
   "pygments_lexer": "ipython3",
   "version": "3.7.12"
  },
  "papermill": {
   "default_parameters": {},
   "duration": 12.953258,
   "end_time": "2022-03-14T23:41:40.768209",
   "environment_variables": {},
   "exception": null,
   "input_path": "__notebook__.ipynb",
   "output_path": "__notebook__.ipynb",
   "parameters": {},
   "start_time": "2022-03-14T23:41:27.814951",
   "version": "2.3.3"
  }
 },
 "nbformat": 4,
 "nbformat_minor": 5
}
