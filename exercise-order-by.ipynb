{
 "cells": [
  {
   "cell_type": "markdown",
   "id": "1c862e6e",
   "metadata": {
    "papermill": {
     "duration": 0.013864,
     "end_time": "2022-03-19T06:55:15.694202",
     "exception": false,
     "start_time": "2022-03-19T06:55:15.680338",
     "status": "completed"
    },
    "tags": []
   },
   "source": [
    "**This notebook is an exercise in the [SQL](https://www.kaggle.com/learn/intro-to-sql) course.  You can reference the tutorial at [this link](https://www.kaggle.com/dansbecker/order-by).**\n",
    "\n",
    "---\n"
   ]
  },
  {
   "cell_type": "markdown",
   "id": "6c5bfe19",
   "metadata": {
    "papermill": {
     "duration": 0.012978,
     "end_time": "2022-03-19T06:55:15.722817",
     "exception": false,
     "start_time": "2022-03-19T06:55:15.709839",
     "status": "completed"
    },
    "tags": []
   },
   "source": [
    "# Introduction\n",
    "\n",
    "You've built up your SQL skills enough that the remaining hands-on exercises will use different datasets than you see in the explanations. If you need to get to know a new dataset, you can run a couple of **SELECT** queries to extract and review the data you need. \n",
    "\n",
    "The next exercises are also more challenging than what you've done so far. Don't worry, you are ready for it!\n",
    "\n",
    "Run the code in the following cell to get everything set up:"
   ]
  },
  {
   "cell_type": "code",
   "execution_count": 1,
   "id": "1ccf9ba2",
   "metadata": {
    "execution": {
     "iopub.execute_input": "2022-03-19T06:55:15.753747Z",
     "iopub.status.busy": "2022-03-19T06:55:15.752470Z",
     "iopub.status.idle": "2022-03-19T06:55:18.648009Z",
     "shell.execute_reply": "2022-03-19T06:55:18.648584Z",
     "shell.execute_reply.started": "2022-03-19T06:49:11.727736Z"
    },
    "papermill": {
     "duration": 2.913403,
     "end_time": "2022-03-19T06:55:18.648921",
     "exception": false,
     "start_time": "2022-03-19T06:55:15.735518",
     "status": "completed"
    },
    "tags": []
   },
   "outputs": [
    {
     "name": "stdout",
     "output_type": "stream",
     "text": [
      "Using Kaggle's public dataset BigQuery integration.\n"
     ]
    },
    {
     "name": "stderr",
     "output_type": "stream",
     "text": [
      "/opt/conda/lib/python3.7/site-packages/google/cloud/bigquery/client.py:440: UserWarning: Cannot create BigQuery Storage client, the dependency google-cloud-bigquery-storage is not installed.\n",
      "  \"Cannot create BigQuery Storage client, the dependency \"\n"
     ]
    },
    {
     "name": "stdout",
     "output_type": "stream",
     "text": [
      "Setup Complete\n"
     ]
    }
   ],
   "source": [
    "# Set up feedback system\n",
    "from learntools.core import binder\n",
    "binder.bind(globals())\n",
    "from learntools.sql.ex4 import *\n",
    "print(\"Setup Complete\")"
   ]
  },
  {
   "cell_type": "markdown",
   "id": "478199de",
   "metadata": {
    "papermill": {
     "duration": 0.013993,
     "end_time": "2022-03-19T06:55:18.677820",
     "exception": false,
     "start_time": "2022-03-19T06:55:18.663827",
     "status": "completed"
    },
    "tags": []
   },
   "source": [
    "The World Bank has made tons of interesting education data available through BigQuery. Run the following cell to see the first few rows of the `international_education` table from the `world_bank_intl_education` dataset."
   ]
  },
  {
   "cell_type": "code",
   "execution_count": 2,
   "id": "76385ceb",
   "metadata": {
    "execution": {
     "iopub.execute_input": "2022-03-19T06:55:18.715137Z",
     "iopub.status.busy": "2022-03-19T06:55:18.713487Z",
     "iopub.status.idle": "2022-03-19T06:55:21.664119Z",
     "shell.execute_reply": "2022-03-19T06:55:21.664680Z",
     "shell.execute_reply.started": "2022-03-19T06:49:14.907835Z"
    },
    "papermill": {
     "duration": 2.972308,
     "end_time": "2022-03-19T06:55:21.664878",
     "exception": false,
     "start_time": "2022-03-19T06:55:18.692570",
     "status": "completed"
    },
    "tags": []
   },
   "outputs": [
    {
     "name": "stdout",
     "output_type": "stream",
     "text": [
      "Using Kaggle's public dataset BigQuery integration.\n"
     ]
    },
    {
     "name": "stderr",
     "output_type": "stream",
     "text": [
      "/opt/conda/lib/python3.7/site-packages/ipykernel_launcher.py:19: UserWarning: Cannot use bqstorage_client if max_results is set, reverting to fetching data with the tabledata.list endpoint.\n"
     ]
    },
    {
     "data": {
      "text/html": [
       "<div>\n",
       "<style scoped>\n",
       "    .dataframe tbody tr th:only-of-type {\n",
       "        vertical-align: middle;\n",
       "    }\n",
       "\n",
       "    .dataframe tbody tr th {\n",
       "        vertical-align: top;\n",
       "    }\n",
       "\n",
       "    .dataframe thead th {\n",
       "        text-align: right;\n",
       "    }\n",
       "</style>\n",
       "<table border=\"1\" class=\"dataframe\">\n",
       "  <thead>\n",
       "    <tr style=\"text-align: right;\">\n",
       "      <th></th>\n",
       "      <th>country_name</th>\n",
       "      <th>country_code</th>\n",
       "      <th>indicator_name</th>\n",
       "      <th>indicator_code</th>\n",
       "      <th>value</th>\n",
       "      <th>year</th>\n",
       "    </tr>\n",
       "  </thead>\n",
       "  <tbody>\n",
       "    <tr>\n",
       "      <th>0</th>\n",
       "      <td>Curacao</td>\n",
       "      <td>CUW</td>\n",
       "      <td>Theoretical duration of secondary education (y...</td>\n",
       "      <td>SE.SEC.DURS</td>\n",
       "      <td>6.00000</td>\n",
       "      <td>2016</td>\n",
       "    </tr>\n",
       "    <tr>\n",
       "      <th>1</th>\n",
       "      <td>Djibouti</td>\n",
       "      <td>DJI</td>\n",
       "      <td>Population of the official age for the last gr...</td>\n",
       "      <td>SP.PRM.GRAD.FE</td>\n",
       "      <td>9273.00000</td>\n",
       "      <td>2016</td>\n",
       "    </tr>\n",
       "    <tr>\n",
       "      <th>2</th>\n",
       "      <td>Djibouti</td>\n",
       "      <td>DJI</td>\n",
       "      <td>Primary completion rate, both sexes (%)</td>\n",
       "      <td>SE.PRM.CMPT.ZS</td>\n",
       "      <td>64.33213</td>\n",
       "      <td>2016</td>\n",
       "    </tr>\n",
       "    <tr>\n",
       "      <th>3</th>\n",
       "      <td>Dominica</td>\n",
       "      <td>DMA</td>\n",
       "      <td>GNI per capita, Atlas method (current US$)</td>\n",
       "      <td>NY.GNP.PCAP.CD</td>\n",
       "      <td>7110.00000</td>\n",
       "      <td>2016</td>\n",
       "    </tr>\n",
       "    <tr>\n",
       "      <th>4</th>\n",
       "      <td>Dominica</td>\n",
       "      <td>DMA</td>\n",
       "      <td>Population of compulsory school age, both sexe...</td>\n",
       "      <td>UIS.SAP.CE</td>\n",
       "      <td>11763.00000</td>\n",
       "      <td>2016</td>\n",
       "    </tr>\n",
       "  </tbody>\n",
       "</table>\n",
       "</div>"
      ],
      "text/plain": [
       "  country_name country_code  \\\n",
       "0      Curacao          CUW   \n",
       "1     Djibouti          DJI   \n",
       "2     Djibouti          DJI   \n",
       "3     Dominica          DMA   \n",
       "4     Dominica          DMA   \n",
       "\n",
       "                                      indicator_name  indicator_code  \\\n",
       "0  Theoretical duration of secondary education (y...     SE.SEC.DURS   \n",
       "1  Population of the official age for the last gr...  SP.PRM.GRAD.FE   \n",
       "2            Primary completion rate, both sexes (%)  SE.PRM.CMPT.ZS   \n",
       "3         GNI per capita, Atlas method (current US$)  NY.GNP.PCAP.CD   \n",
       "4  Population of compulsory school age, both sexe...      UIS.SAP.CE   \n",
       "\n",
       "         value  year  \n",
       "0      6.00000  2016  \n",
       "1   9273.00000  2016  \n",
       "2     64.33213  2016  \n",
       "3   7110.00000  2016  \n",
       "4  11763.00000  2016  "
      ]
     },
     "execution_count": 2,
     "metadata": {},
     "output_type": "execute_result"
    }
   ],
   "source": [
    "from google.cloud import bigquery\n",
    "\n",
    "# Create a \"Client\" object\n",
    "client = bigquery.Client()\n",
    "\n",
    "# Construct a reference to the \"world_bank_intl_education\" dataset\n",
    "dataset_ref = client.dataset(\"world_bank_intl_education\", project=\"bigquery-public-data\")\n",
    "\n",
    "# API request - fetch the dataset\n",
    "dataset = client.get_dataset(dataset_ref)\n",
    "\n",
    "# Construct a reference to the \"international_education\" table\n",
    "table_ref = dataset_ref.table(\"international_education\")\n",
    "\n",
    "# API request - fetch the table\n",
    "table = client.get_table(table_ref)\n",
    "\n",
    "# Preview the first five lines of the \"international_education\" table\n",
    "client.list_rows(table, max_results=5).to_dataframe()"
   ]
  },
  {
   "cell_type": "markdown",
   "id": "c6cff8a2",
   "metadata": {
    "papermill": {
     "duration": 0.01539,
     "end_time": "2022-03-19T06:55:21.697093",
     "exception": false,
     "start_time": "2022-03-19T06:55:21.681703",
     "status": "completed"
    },
    "tags": []
   },
   "source": [
    "# Exercises\n",
    "\n",
    "The value in the `indicator_code` column describes what type of data is shown in a given row.  \n",
    "\n",
    "One interesting indicator code is `SE.XPD.TOTL.GD.ZS`, which corresponds to \"Government expenditure on education as % of GDP (%)\".\n",
    "\n",
    "### 1) Government expenditure on education\n",
    "\n",
    "Which countries spend the largest fraction of GDP on education?  \n",
    "\n",
    "To answer this question, consider only the rows in the dataset corresponding to indicator code `SE.XPD.TOTL.GD.ZS`, and write a query that returns the average value in the `value` column for each country in the dataset between the years 2010-2017 (including 2010 and 2017 in the average). \n",
    "\n",
    "Requirements:\n",
    "- Your results should have the country name rather than the country code. You will have one row for each country.\n",
    "- The aggregate function for average is **AVG()**.  Use the name `avg_ed_spending_pct` for the column created by this aggregation.\n",
    "- Order the results so the countries that spend the largest fraction of GDP on education show up first.\n",
    "\n",
    "In case it's useful to see a sample query, here's a query you saw in the tutorial (using a different dataset):\n",
    "```\n",
    "# Query to find out the number of accidents for each day of the week\n",
    "query = \"\"\"\n",
    "        SELECT COUNT(consecutive_number) AS num_accidents, \n",
    "               EXTRACT(DAYOFWEEK FROM timestamp_of_crash) AS day_of_week\n",
    "        FROM `bigquery-public-data.nhtsa_traffic_fatalities.accident_2015`\n",
    "        GROUP BY day_of_week\n",
    "        ORDER BY num_accidents DESC\n",
    "        \"\"\"\n",
    "```"
   ]
  },
  {
   "cell_type": "code",
   "execution_count": 3,
   "id": "632b85a6",
   "metadata": {
    "execution": {
     "iopub.execute_input": "2022-03-19T06:55:21.732890Z",
     "iopub.status.busy": "2022-03-19T06:55:21.731992Z",
     "iopub.status.idle": "2022-03-19T06:55:23.129458Z",
     "shell.execute_reply": "2022-03-19T06:55:23.129977Z",
     "shell.execute_reply.started": "2022-03-19T06:49:30.134313Z"
    },
    "papermill": {
     "duration": 1.417582,
     "end_time": "2022-03-19T06:55:23.130156",
     "exception": false,
     "start_time": "2022-03-19T06:55:21.712574",
     "status": "completed"
    },
    "tags": []
   },
   "outputs": [
    {
     "name": "stderr",
     "output_type": "stream",
     "text": [
      "/opt/conda/lib/python3.7/site-packages/google/cloud/bigquery/client.py:440: UserWarning: Cannot create BigQuery Storage client, the dependency google-cloud-bigquery-storage is not installed.\n",
      "  \"Cannot create BigQuery Storage client, the dependency \"\n"
     ]
    },
    {
     "name": "stdout",
     "output_type": "stream",
     "text": [
      "            country_name  avg_ed_spending_pct\n",
      "0                   Cuba            12.837270\n",
      "1  Micronesia, Fed. Sts.            12.467750\n",
      "2        Solomon Islands            10.001080\n",
      "3                Moldova             8.372153\n",
      "4                Namibia             8.349610\n"
     ]
    },
    {
     "data": {
      "application/javascript": [
       "parent.postMessage({\"jupyterEvent\": \"custom.exercise_interaction\", \"data\": {\"outcomeType\": 1, \"valueTowardsCompletion\": 0.5, \"interactionType\": 1, \"questionType\": 2, \"questionId\": \"1_EducationSpending\", \"learnToolsVersion\": \"0.3.4\", \"failureMessage\": \"\", \"exceptionClass\": \"\", \"trace\": \"\"}}, \"*\")"
      ],
      "text/plain": [
       "<IPython.core.display.Javascript object>"
      ]
     },
     "metadata": {},
     "output_type": "display_data"
    },
    {
     "data": {
      "text/markdown": [
       "<span style=\"color:#33cc33\">Correct</span>"
      ],
      "text/plain": [
       "Correct"
      ]
     },
     "metadata": {},
     "output_type": "display_data"
    }
   ],
   "source": [
    "# Your code goes here\n",
    "country_spend_pct_query = \"\"\"\n",
    "                          SELECT country_name, AVG(value) AS avg_ed_spending_pct\n",
    "                          \n",
    "                          FROM `bigquery-public-data.world_bank_intl_education.international_education`\n",
    "                          WHERE indicator_code = \"SE.XPD.TOTL.GD.ZS\" AND year<=2017 AND year>=2010 \n",
    "                          GROUP BY country_name\n",
    "                          ORDER BY avg_ed_spending_pct DESC\n",
    "                          \"\"\"\n",
    "\n",
    "# Set up the query (cancel the query if it would use too much of \n",
    "# your quota, with the limit set to 1 GB)\n",
    "safe_config = bigquery.QueryJobConfig(maximum_bytes_billed=10**9)\n",
    "country_spend_pct_query_job = client.query(country_spend_pct_query, job_config=safe_config)\n",
    "\n",
    "# API request - run the query, and return a pandas DataFrame\n",
    "country_spending_results = country_spend_pct_query_job.to_dataframe()\n",
    "\n",
    "# View top few rows of results\n",
    "print(country_spending_results.head())\n",
    "\n",
    "# Check your answer\n",
    "q_1.check()"
   ]
  },
  {
   "cell_type": "markdown",
   "id": "9d871fab",
   "metadata": {
    "papermill": {
     "duration": 0.017064,
     "end_time": "2022-03-19T06:55:23.164574",
     "exception": false,
     "start_time": "2022-03-19T06:55:23.147510",
     "status": "completed"
    },
    "tags": []
   },
   "source": [
    "For a hint or the solution, uncomment the appropriate line below."
   ]
  },
  {
   "cell_type": "code",
   "execution_count": 4,
   "id": "56e5c577",
   "metadata": {
    "execution": {
     "iopub.execute_input": "2022-03-19T06:55:23.203486Z",
     "iopub.status.busy": "2022-03-19T06:55:23.202524Z",
     "iopub.status.idle": "2022-03-19T06:55:23.209828Z",
     "shell.execute_reply": "2022-03-19T06:55:23.210324Z",
     "shell.execute_reply.started": "2022-03-18T15:35:18.238962Z"
    },
    "papermill": {
     "duration": 0.028577,
     "end_time": "2022-03-19T06:55:23.210519",
     "exception": false,
     "start_time": "2022-03-19T06:55:23.181942",
     "status": "completed"
    },
    "tags": []
   },
   "outputs": [
    {
     "data": {
      "application/javascript": [
       "parent.postMessage({\"jupyterEvent\": \"custom.exercise_interaction\", \"data\": {\"interactionType\": 2, \"questionType\": 2, \"questionId\": \"1_EducationSpending\", \"learnToolsVersion\": \"0.3.4\", \"valueTowardsCompletion\": 0.0, \"failureMessage\": \"\", \"exceptionClass\": \"\", \"trace\": \"\", \"outcomeType\": 4}}, \"*\")"
      ],
      "text/plain": [
       "<IPython.core.display.Javascript object>"
      ]
     },
     "metadata": {},
     "output_type": "display_data"
    },
    {
     "data": {
      "text/markdown": [
       "<span style=\"color:#3366cc\">Hint:</span> The part before `FROM` should be `SELECT country_name, AVG(value) AS avg_ed_spending_pct`."
      ],
      "text/plain": [
       "Hint: The part before `FROM` should be `SELECT country_name, AVG(value) AS avg_ed_spending_pct`."
      ]
     },
     "metadata": {},
     "output_type": "display_data"
    }
   ],
   "source": [
    "q_1.hint()\n",
    "#q_1.solution()"
   ]
  },
  {
   "cell_type": "markdown",
   "id": "b1e5d255",
   "metadata": {
    "papermill": {
     "duration": 0.018295,
     "end_time": "2022-03-19T06:55:23.247722",
     "exception": false,
     "start_time": "2022-03-19T06:55:23.229427",
     "status": "completed"
    },
    "tags": []
   },
   "source": [
    "### 2) Identify interesting codes to explore\n",
    "\n",
    "The last question started by telling you to focus on rows with the code `SE.XPD.TOTL.GD.ZS`. But how would you find more interesting indicator codes to explore?\n",
    "\n",
    "There are 1000s of codes in the dataset, so it would be time consuming to review them all. But many codes are available for only a few countries. When browsing the options for different codes, you might restrict yourself to codes that are reported by many countries.\n",
    "\n",
    "Write a query below that selects the indicator code and indicator name for all codes with at least 175 rows in the year 2016.\n",
    "\n",
    "Requirements:\n",
    "- You should have one row for each indicator code.\n",
    "- The columns in your results should be called `indicator_code`, `indicator_name`, and `num_rows`.\n",
    "- Only select codes with 175 or more rows in the raw database (exactly 175 rows would be included).\n",
    "- To get both the `indicator_code` and `indicator_name` in your resulting DataFrame, you need to include both in your **SELECT** statement (in addition to a **COUNT()** aggregation). This requires you to include both in your **GROUP BY** clause.\n",
    "- Order from results most frequent to least frequent."
   ]
  },
  {
   "cell_type": "code",
   "execution_count": 5,
   "id": "3bfeba09",
   "metadata": {
    "execution": {
     "iopub.execute_input": "2022-03-19T06:55:23.288989Z",
     "iopub.status.busy": "2022-03-19T06:55:23.288262Z",
     "iopub.status.idle": "2022-03-19T06:55:24.988727Z",
     "shell.execute_reply": "2022-03-19T06:55:24.989594Z",
     "shell.execute_reply.started": "2022-03-19T06:51:56.930361Z"
    },
    "papermill": {
     "duration": 1.722986,
     "end_time": "2022-03-19T06:55:24.989894",
     "exception": false,
     "start_time": "2022-03-19T06:55:23.266908",
     "status": "completed"
    },
    "tags": []
   },
   "outputs": [
    {
     "name": "stderr",
     "output_type": "stream",
     "text": [
      "/opt/conda/lib/python3.7/site-packages/google/cloud/bigquery/client.py:440: UserWarning: Cannot create BigQuery Storage client, the dependency google-cloud-bigquery-storage is not installed.\n",
      "  \"Cannot create BigQuery Storage client, the dependency \"\n"
     ]
    },
    {
     "name": "stdout",
     "output_type": "stream",
     "text": [
      "      indicator_code                       indicator_name  num_rows\n",
      "0        SP.POP.GROW         Population growth (annual %)       232\n",
      "1        SP.POP.TOTL                    Population, total       232\n",
      "2     IT.NET.USER.P2      Internet users (per 100 people)       223\n",
      "3  SP.POP.1564.TO.ZS  Population, ages 15-64 (% of total)       213\n",
      "4     SP.POP.0014.TO         Population, ages 0-14, total       213\n"
     ]
    },
    {
     "data": {
      "application/javascript": [
       "parent.postMessage({\"jupyterEvent\": \"custom.exercise_interaction\", \"data\": {\"outcomeType\": 1, \"valueTowardsCompletion\": 0.5, \"interactionType\": 1, \"questionType\": 2, \"questionId\": \"2_FindInterestingCodes\", \"learnToolsVersion\": \"0.3.4\", \"failureMessage\": \"\", \"exceptionClass\": \"\", \"trace\": \"\"}}, \"*\")"
      ],
      "text/plain": [
       "<IPython.core.display.Javascript object>"
      ]
     },
     "metadata": {},
     "output_type": "display_data"
    },
    {
     "data": {
      "text/markdown": [
       "<span style=\"color:#33cc33\">Correct</span>"
      ],
      "text/plain": [
       "Correct"
      ]
     },
     "metadata": {},
     "output_type": "display_data"
    }
   ],
   "source": [
    "# Your code goes here\n",
    "code_count_query = \"\"\"\n",
    "                    SELECT indicator_code,indicator_name,COUNT(1) AS num_rows\n",
    "                    FROM `bigquery-public-data.world_bank_intl_education.international_education`\n",
    "                    WHERE year = 2016\n",
    "                    GROUP BY indicator_code,indicator_name\n",
    "                    HAVING COUNT(1) >= 175\n",
    "                    ORDER BY num_rows DESC\n",
    "                    \n",
    "                    \"\"\"\n",
    "\n",
    "# Set up the query\n",
    "safe_config = bigquery.QueryJobConfig(maximum_bytes_billed=10**10)\n",
    "code_count_query_job = client.query(code_count_query, job_config=safe_config)\n",
    "\n",
    "# API request - run the query, and return a pandas DataFrame\n",
    "code_count_results = code_count_query_job.to_dataframe()\n",
    "\n",
    "# View top few rows of results\n",
    "print(code_count_results.head())\n",
    "\n",
    "# Check your answer\n",
    "q_2.check()"
   ]
  },
  {
   "cell_type": "markdown",
   "id": "f2899640",
   "metadata": {
    "papermill": {
     "duration": 0.026287,
     "end_time": "2022-03-19T06:55:25.047423",
     "exception": false,
     "start_time": "2022-03-19T06:55:25.021136",
     "status": "completed"
    },
    "tags": []
   },
   "source": [
    "For a hint or the solution, uncomment the appropriate line below."
   ]
  },
  {
   "cell_type": "code",
   "execution_count": 6,
   "id": "2b126643",
   "metadata": {
    "execution": {
     "iopub.execute_input": "2022-03-19T06:55:25.099185Z",
     "iopub.status.busy": "2022-03-19T06:55:25.098333Z",
     "iopub.status.idle": "2022-03-19T06:55:25.101837Z",
     "shell.execute_reply": "2022-03-19T06:55:25.102563Z",
     "shell.execute_reply.started": "2022-03-19T06:51:11.303553Z"
    },
    "papermill": {
     "duration": 0.029765,
     "end_time": "2022-03-19T06:55:25.102872",
     "exception": false,
     "start_time": "2022-03-19T06:55:25.073107",
     "status": "completed"
    },
    "tags": []
   },
   "outputs": [],
   "source": [
    "#q_2.hint()\n",
    "#q_2.solution()"
   ]
  },
  {
   "cell_type": "markdown",
   "id": "3b38df24",
   "metadata": {
    "papermill": {
     "duration": 0.02333,
     "end_time": "2022-03-19T06:55:25.147638",
     "exception": false,
     "start_time": "2022-03-19T06:55:25.124308",
     "status": "completed"
    },
    "tags": []
   },
   "source": [
    "# Keep Going\n",
    "**[Click here](https://www.kaggle.com/dansbecker/as-with)** to learn how to use **AS** and **WITH** to clean up your code and help you construct more complex queries."
   ]
  },
  {
   "cell_type": "markdown",
   "id": "50d9855a",
   "metadata": {
    "papermill": {
     "duration": 0.021313,
     "end_time": "2022-03-19T06:55:25.192068",
     "exception": false,
     "start_time": "2022-03-19T06:55:25.170755",
     "status": "completed"
    },
    "tags": []
   },
   "source": [
    "---\n",
    "\n",
    "\n",
    "\n",
    "\n",
    "*Have questions or comments? Visit the [course discussion forum](https://www.kaggle.com/learn/intro-to-sql/discussion) to chat with other learners.*"
   ]
  }
 ],
 "metadata": {
  "kernelspec": {
   "display_name": "Python 3",
   "language": "python",
   "name": "python3"
  },
  "language_info": {
   "codemirror_mode": {
    "name": "ipython",
    "version": 3
   },
   "file_extension": ".py",
   "mimetype": "text/x-python",
   "name": "python",
   "nbconvert_exporter": "python",
   "pygments_lexer": "ipython3",
   "version": "3.7.12"
  },
  "papermill": {
   "default_parameters": {},
   "duration": 21.92489,
   "end_time": "2022-03-19T06:55:25.823368",
   "environment_variables": {},
   "exception": null,
   "input_path": "__notebook__.ipynb",
   "output_path": "__notebook__.ipynb",
   "parameters": {},
   "start_time": "2022-03-19T06:55:03.898478",
   "version": "2.3.3"
  }
 },
 "nbformat": 4,
 "nbformat_minor": 5
}
